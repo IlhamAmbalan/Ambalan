{
  "nbformat": 4,
  "nbformat_minor": 0,
  "metadata": {
    "colab": {
      "provenance": [],
      "authorship_tag": "ABX9TyNmzw60lAWCj6SB96Fo6q9U",
      "include_colab_link": true
    },
    "kernelspec": {
      "name": "python3",
      "display_name": "Python 3"
    },
    "language_info": {
      "name": "python"
    }
  },
  "cells": [
    {
      "cell_type": "markdown",
      "metadata": {
        "id": "view-in-github",
        "colab_type": "text"
      },
      "source": [
        "<a href=\"https://colab.research.google.com/github/IlhamAmbalan/Ambalan/blob/main/Minggu_13_Praktikum.ipynb\" target=\"_parent\"><img src=\"https://colab.research.google.com/assets/colab-badge.svg\" alt=\"Open In Colab\"/></a>"
      ]
    },
    {
      "cell_type": "code",
      "execution_count": null,
      "metadata": {
        "colab": {
          "base_uri": "https://localhost:8080/"
        },
        "id": "1IPQr5lrgr9e",
        "outputId": "8f2c1757-78c8-4129-eb5e-ff90e949bf71"
      },
      "outputs": [
        {
          "output_type": "stream",
          "name": "stdout",
          "text": [
            "\u001b[1mINFORMASI TOTAL HARGA:\u001b[0m\n",
            "\n",
            "Bolpoint:\n",
            "Nama: Bolpoint\n",
            "Stok: 10\n",
            "Harga Satuan: Rp. 2000\n",
            "Harga Total: Rp. 20000\n",
            "\n",
            "Pensil:\n",
            "Nama: Pensil\n",
            "Stok: 10\n",
            "Harga Satuan: Rp. 1000\n",
            "Harga Total: Rp. 10000\n",
            "\n",
            "Penghapus:\n",
            "Nama: Penghapus\n",
            "Stok: 10\n",
            "Harga Satuan: Rp. 500\n",
            "Harga Total: Rp. 5000\n",
            "\n",
            "Total Harga Setelah Transaksi: Rp. 35000\n"
          ]
        }
      ],
      "source": [
        "class AlatTulis:\n",
        "    def __init__(self, nama, stok, harga):\n",
        "        self.nama = nama\n",
        "        self.stok = stok\n",
        "        self.harga = harga\n",
        "        self.harga_total = self.stok * self.harga\n",
        "\n",
        "    def get_info(self):\n",
        "        return f\"Nama: {self.nama}\\nStok: {self.stok}\\nHarga Satuan: Rp. {self.harga}\\nHarga Total: Rp. {self.harga_total}\"\n",
        "\n",
        "    def get_total_harga(self):\n",
        "        return self.harga_total\n",
        "\n",
        "bolpoint = AlatTulis(\"Bolpoint\", 10, 2000)\n",
        "pensil = AlatTulis(\"Pensil\", 10, 1000)\n",
        "penghapus = AlatTulis(\"Penghapus\", 10, 500)\n",
        "\n",
        "print(\"\\033[1mINFORMASI TOTAL HARGA:\\033[0m\")\n",
        "print(\"\\nBolpoint:\")\n",
        "print(bolpoint.get_info())\n",
        "print(\"\\nPensil:\")\n",
        "print(pensil.get_info())\n",
        "print(\"\\nPenghapus:\")\n",
        "print(penghapus.get_info())\n",
        "\n",
        "total_harga = (bolpoint.get_total_harga() +\n",
        "               pensil.get_total_harga() + penghapus.get_total_harga())\n",
        "\n",
        "print(\"\\nTotal Harga Setelah Transaksi: Rp.\", total_harga)"
      ]
    }
  ]
}