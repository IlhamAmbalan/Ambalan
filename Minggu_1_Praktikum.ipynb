{
  "nbformat": 4,
  "nbformat_minor": 0,
  "metadata": {
    "colab": {
      "provenance": [],
      "authorship_tag": "ABX9TyPbU4w380JKWJyg2NbPme5z",
      "include_colab_link": true
    },
    "kernelspec": {
      "name": "python3",
      "display_name": "Python 3"
    },
    "language_info": {
      "name": "python"
    }
  },
  "cells": [
    {
      "cell_type": "markdown",
      "metadata": {
        "id": "view-in-github",
        "colab_type": "text"
      },
      "source": [
        "<a href=\"https://colab.research.google.com/github/IlhamAmbalan/Ambalan/blob/main/Minggu_1_Praktikum.ipynb\" target=\"_parent\"><img src=\"https://colab.research.google.com/assets/colab-badge.svg\" alt=\"Open In Colab\"/></a>"
      ]
    },
    {
      "cell_type": "markdown",
      "source": [
        "# **WEEK 1**\n"
      ],
      "metadata": {
        "id": "F0LCZ-vB9G6w"
      }
    },
    {
      "cell_type": "markdown",
      "source": [
        "# **Weekly Exercise 1**"
      ],
      "metadata": {
        "id": "AZ6IbMDUDlAB"
      }
    },
    {
      "cell_type": "markdown",
      "source": [
        "*Biodata Diri*"
      ],
      "metadata": {
        "id": "OgWBBFL-I6n0"
      }
    },
    {
      "cell_type": "code",
      "execution_count": null,
      "metadata": {
        "colab": {
          "base_uri": "https://localhost:8080/"
        },
        "id": "3vWAdUjR8S8h",
        "outputId": "9103068a-8687-4329-aec2-f97b07e0db6d"
      },
      "outputs": [
        {
          "output_type": "stream",
          "name": "stdout",
          "text": [
            "Nama          : Ilham Khalid Putra Ambalan\n",
            "\n",
            "NPM           : 2440506066\n",
            "\n",
            "Alamat        :Jl. Kapten Suparman 39, Magelang, Jawa Tengah\n",
            "\n",
            "Tinggi Badan  : 167.5\n",
            "\n",
            "Berat Badan   : 75\n"
          ]
        }
      ],
      "source": [
        "print('Nama          : Ilham Khalid Putra Ambalan')\n",
        "print('\\nNPM           : 2440506066')\n",
        "print('\\nAlamat        :Jl. Kapten Suparman 39, Magelang, Jawa Tengah')\n",
        "print('\\nTinggi Badan  : 167.5')\n",
        "print('\\nBerat Badan   : 75')"
      ]
    },
    {
      "cell_type": "markdown",
      "source": [
        "# **Weekly Exercise 2**"
      ],
      "metadata": {
        "id": "FcH5-NC6JJZ8"
      }
    },
    {
      "cell_type": "code",
      "source": [
        "print(\"\\033[1mUNIVERSITAS TIDAR\\033[0m\")\n",
        "print('Universitas Tidar merupakan Perguruan Tinggi Pemerintah atau Perguruan Tinggi Negeri yang telah ditetapkan berdasarkan Peraturan Presiden Republik Indonesia Nomor 23 Tahun 2014 pada tanggal 1 April 2014.')\n",
        "print('\\n\\033[1mJURUSAN TEKNIK ELEKTRO, MEKATRONIKA, DAN INFORMASI\\033[0m')\n",
        "print('Jurusan Teknik Elektro terdiri atas tiga program studi, antara lain:')\n",
        "print('   1. S1 Teknik Elektro (\\x1b[3mBachelor of Electrical Engineering\\x1b[0m)')\n",
        "print('   2. S1 Teknologi Informasi (\\x1b[3mBachelor of Information Technology\\x1b[0m)')\n",
        "print('   3. S1 Teknik Mekatronika (\\x1b[3mBachelor of Mechatronics Engineering\\x1b[0m)')"
      ],
      "metadata": {
        "colab": {
          "base_uri": "https://localhost:8080/"
        },
        "id": "7asenvjvJbSD",
        "outputId": "e729eac7-a696-4979-8162-852f3a51553c"
      },
      "execution_count": null,
      "outputs": [
        {
          "output_type": "stream",
          "name": "stdout",
          "text": [
            "\u001b[1mUNIVERSITAS TIDAR\u001b[0m\n",
            "Universitas Tidar merupakan Perguruan Tinggi Pemerintah atau Perguruan Tinggi Negeri yang telah ditetapkan berdasarkan Peraturan Presiden Republik Indonesia Nomor 23 Tahun 2014 pada tanggal 1 April 2014.\n",
            "\n",
            "\u001b[1mJURUSAN TEKNIK ELEKTRO, MEKATRONIKA, DAN INFORMASI\u001b[0m\n",
            "Jurusan Teknik Elektro terdiri atas tiga program studi, antara lain:\n",
            "   1. S1 Teknik Elektro (\u001b[3mBachelor of Electrical Engineering\u001b[0m)\n",
            "   2. S1 Teknologi Informasi (\u001b[3mBachelor of Information Technology\u001b[0m)\n",
            "   3. S1 Teknik Mekatronika (\u001b[3mBachelor of Mechatronics Engineering\u001b[0m)\n"
          ]
        }
      ]
    }
  ]
}