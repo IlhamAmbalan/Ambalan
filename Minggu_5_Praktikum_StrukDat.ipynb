{
  "nbformat": 4,
  "nbformat_minor": 0,
  "metadata": {
    "colab": {
      "provenance": [],
      "authorship_tag": "ABX9TyMXl+FG40X0I13wkhUMp/ED",
      "include_colab_link": true
    },
    "kernelspec": {
      "name": "python3",
      "display_name": "Python 3"
    },
    "language_info": {
      "name": "python"
    }
  },
  "cells": [
    {
      "cell_type": "markdown",
      "metadata": {
        "id": "view-in-github",
        "colab_type": "text"
      },
      "source": [
        "<a href=\"https://colab.research.google.com/github/IlhamAmbalan/Ambalan/blob/main/Minggu_5_Praktikum_StrukDat.ipynb\" target=\"_parent\"><img src=\"https://colab.research.google.com/assets/colab-badge.svg\" alt=\"Open In Colab\"/></a>"
      ]
    },
    {
      "cell_type": "markdown",
      "source": [
        "# **LANGKAH PRAKTIKUM**"
      ],
      "metadata": {
        "id": "3fXaxbCnKGJ7"
      }
    },
    {
      "cell_type": "markdown",
      "source": [
        "**Implementasi Linear Search**"
      ],
      "metadata": {
        "id": "njARMpeWKPf6"
      }
    },
    {
      "cell_type": "code",
      "execution_count": null,
      "metadata": {
        "colab": {
          "base_uri": "https://localhost:8080/"
        },
        "id": "wKB7jOp7JzDI",
        "outputId": "4d617185-9170-4774-faf5-b00a66427050"
      },
      "outputs": [
        {
          "output_type": "stream",
          "name": "stdout",
          "text": [
            "Masukkan 3 digit terakhir NPM anda: 66\n",
            "Target ditemukan pada indeks 7\n"
          ]
        }
      ],
      "source": [
        "def linear_search(arr, target):\n",
        "  for i in range(len(arr)):\n",
        "    if arr[i] == target:\n",
        "      return i\n",
        "  return -1\n",
        "\n",
        "arr = [12, 45, 78, 23, 56, 89, 34, 66, 90, 11]\n",
        "target = int(input(\"Masukkan 3 digit terakhir NPM anda: \"))\n",
        "\n",
        "result = linear_search(arr, target)\n",
        "\n",
        "if result != -1:\n",
        "  print(\"Target ditemukan pada indeks\", result)\n",
        "else:\n",
        "  print(\"Target tidak ditemukan dalam array\")"
      ]
    },
    {
      "cell_type": "markdown",
      "source": [
        "**Implementasi Binary Search**"
      ],
      "metadata": {
        "id": "JfawoumlME-1"
      }
    },
    {
      "cell_type": "code",
      "source": [
        "def binary_search(arr, target):\n",
        "  low = 0\n",
        "  high = len(arr) - 1\n",
        "\n",
        "  while low <= high:\n",
        "    mid = (low + high) // 2\n",
        "    if arr[mid] == target:\n",
        "      return mid\n",
        "    elif arr[mid] < target:\n",
        "      low = mid + 1\n",
        "    else:\n",
        "      high = mid - 1\n",
        "\n",
        "  return -1\n",
        "\n",
        "arr = [1001, 1202, 1405, 1608, 1707, 2508, 2609, 2808, 3412,]\n",
        "target = int(input(\"Masukkan tanggal lahir anda (DDMM): \"))\n",
        "\n",
        "result = binary_search(arr, target)\n",
        "\n",
        "if result != -1:\n",
        "  print(\"Target ditemukan pada indeks\", result)\n",
        "else:\n",
        "  print(\"Target tidak ditemukan dalam array\")"
      ],
      "metadata": {
        "colab": {
          "base_uri": "https://localhost:8080/"
        },
        "id": "pqQKBBpKMMg4",
        "outputId": "aed88b6a-15fd-41ce-fa6f-72b670566434"
      },
      "execution_count": null,
      "outputs": [
        {
          "output_type": "stream",
          "name": "stdout",
          "text": [
            "Masukkan tanggal lahir anda (DDMM): 2808\n",
            "Target ditemukan pada indeks 6\n"
          ]
        }
      ]
    },
    {
      "cell_type": "markdown",
      "source": [
        "**Implementasi Jump Search**"
      ],
      "metadata": {
        "id": "j3PJ--AiNQqQ"
      }
    },
    {
      "cell_type": "code",
      "source": [
        "import math\n",
        "\n",
        "def jump_search(arr, target):\n",
        "  n = len(arr)\n",
        "  step = int(math.sqrt(n))\n",
        "  prev = 0\n",
        "\n",
        "  while arr[min(step, n) - 1] < target:\n",
        "    prev = step\n",
        "    step += int(math.sqrt(n))\n",
        "    if prev >= n:\n",
        "      return -1\n",
        "\n",
        "  for i in range(prev, min(step, n)):\n",
        "    if arr[i] == target:\n",
        "      return i\n",
        "\n",
        "  return -1\n",
        "\n",
        "arr = [\"Ambalan\", \"Budi\", \"Dewi\", \"Fajar\", \"Oyel\"]\n",
        "target = input(\"Masukkan nama anda: \")\n",
        "\n",
        "result = jump_search(arr, target)\n",
        "\n",
        "if result != -1:\n",
        "  print(\"Target ditemukan pada indeks\", result)\n",
        "else:\n",
        "  print(\"Target tidak ditemukan dalam array\")"
      ],
      "metadata": {
        "colab": {
          "base_uri": "https://localhost:8080/"
        },
        "id": "beGfchPSNiwU",
        "outputId": "dc0fd456-0e45-48ba-f2bc-04fff18baeec"
      },
      "execution_count": null,
      "outputs": [
        {
          "output_type": "stream",
          "name": "stdout",
          "text": [
            "Masukkan nama anda: Ambalan\n",
            "Target ditemukan pada indeks 0\n"
          ]
        }
      ]
    },
    {
      "cell_type": "markdown",
      "source": [
        "# **LATIHAN / TUGAS**"
      ],
      "metadata": {
        "id": "40CRY_OUO8s2"
      }
    },
    {
      "cell_type": "markdown",
      "source": [
        "**Linear Search**"
      ],
      "metadata": {
        "id": "y-6GLtrtPPB2"
      }
    },
    {
      "cell_type": "code",
      "source": [
        "import random\n",
        "loop = 0\n",
        "def linear_search(arr, target):\n",
        "  global loop\n",
        "  for i in range(len(arr)):\n",
        "        if arr[i] == target:\n",
        "          return i\n",
        "        loop += 1\n",
        "  return -1\n",
        "\n",
        "\n",
        "arr = random.sample(range(1, 1001), 100)\n",
        "print(arr)\n",
        "target = int(input(\"Masukan angka acak: \"))\n",
        "\n",
        "result = linear_search(arr, target)\n",
        "\n",
        "if result != -1:\n",
        "    print(f\"Angka ditemukan pada indeks {result}\")\n",
        "    print(f\"Jumlah perbandingan: {loop}\")\n",
        "else:\n",
        "    print(\"Angka tidak ditemukan dalam array\")\n",
        "    print(f\"Jumlah perbandingan: {loop}\")"
      ],
      "metadata": {
        "id": "ZbRBGiz5cDyX",
        "colab": {
          "base_uri": "https://localhost:8080/"
        },
        "outputId": "00779daa-3bf3-497b-fffc-83d0fbe61c40"
      },
      "execution_count": 2,
      "outputs": [
        {
          "output_type": "stream",
          "name": "stdout",
          "text": [
            "[979, 215, 595, 167, 337, 909, 886, 112, 155, 669, 61, 385, 692, 829, 145, 516, 239, 952, 113, 42, 561, 596, 659, 643, 614, 273, 500, 973, 316, 755, 363, 885, 961, 214, 107, 741, 702, 70, 666, 317, 255, 939, 531, 216, 422, 660, 55, 159, 700, 575, 730, 466, 770, 633, 995, 854, 344, 260, 314, 627, 839, 288, 922, 299, 93, 224, 373, 626, 416, 716, 58, 1, 617, 110, 471, 768, 943, 120, 198, 938, 676, 370, 998, 762, 957, 841, 467, 403, 74, 364, 588, 752, 800, 36, 456, 743, 615, 20, 664, 442]\n",
            "Masukan angka acak: 215\n",
            "Angka ditemukan pada indeks 1\n",
            "Jumlah perbandingan: 1\n"
          ]
        }
      ]
    },
    {
      "cell_type": "markdown",
      "source": [
        "**Binary Search**"
      ],
      "metadata": {
        "id": "j5F_gzHSBxrF"
      }
    },
    {
      "cell_type": "code",
      "source": [
        "import random\n",
        "def binary_search(arr, target):\n",
        "    low = 0\n",
        "    high = len(arr) - 1\n",
        "    loop = 0\n",
        "\n",
        "    while low <= high:\n",
        "        mid = (low + high) // 2\n",
        "        if arr[mid] == target:\n",
        "          return mid, loop\n",
        "        elif arr[mid] < target:\n",
        "          low = mid + 1\n",
        "        else:\n",
        "          high = mid - 1\n",
        "        loop += 1\n",
        "    return -1, loop\n",
        "\n",
        "arr = sorted(random.sample(range(1, 1001), 100))\n",
        "print(arr)\n",
        "target = int(input(\"Masukan angka acak: \"))\n",
        "\n",
        "result, loop = binary_search(arr, target)\n",
        "\n",
        "if result != -1:\n",
        "    print(f\"Angka ditemukan pada indeks {result}\")\n",
        "    print(f\"Jumlah perbandingan: {loop}\")\n",
        "else:\n",
        "    print(\"Angka tidak ditemukan dalam array\")\n",
        "    print(f\"Jumlah perbandingan: {loop}\")"
      ],
      "metadata": {
        "colab": {
          "base_uri": "https://localhost:8080/"
        },
        "id": "n_-6Os1uB1uj",
        "outputId": "ad7b816b-4e16-47a1-f49b-6c26f42e758b"
      },
      "execution_count": 3,
      "outputs": [
        {
          "output_type": "stream",
          "name": "stdout",
          "text": [
            "[3, 12, 22, 26, 44, 53, 60, 68, 72, 77, 94, 102, 106, 121, 124, 132, 135, 153, 179, 183, 191, 192, 197, 214, 215, 223, 230, 249, 258, 272, 281, 305, 324, 327, 372, 383, 385, 406, 407, 409, 418, 423, 432, 436, 453, 457, 463, 470, 513, 526, 535, 543, 565, 567, 570, 576, 588, 601, 604, 605, 607, 609, 624, 651, 656, 659, 660, 665, 704, 708, 709, 717, 723, 734, 738, 750, 756, 758, 763, 783, 790, 811, 822, 824, 831, 835, 852, 853, 879, 885, 889, 899, 927, 944, 947, 969, 978, 984, 992, 995]\n",
            "Masukan angka acak: 68\n",
            "Angka ditemukan pada indeks 7\n",
            "Jumlah perbandingan: 6\n"
          ]
        }
      ]
    },
    {
      "cell_type": "markdown",
      "source": [
        "**Jump Search**"
      ],
      "metadata": {
        "id": "O9xUrsFfB-51"
      }
    },
    {
      "cell_type": "code",
      "source": [
        "from typing import Counter\n",
        "import math\n",
        "import random\n",
        "\n",
        "Counter = 0\n",
        "def jump_search(arr, target):\n",
        "    global Counter\n",
        "    n = len(arr)\n",
        "    step = int(math.sqrt(n))\n",
        "    prev = 0\n",
        "\n",
        "    while arr[min(step, n) - 1] < target:\n",
        "        prev = step\n",
        "        step += int(math.sqrt(n))\n",
        "        Counter += 1\n",
        "        if prev >= n:\n",
        "            return -1\n",
        "\n",
        "    for i in range (prev, min(step, n)):\n",
        "        if arr[i] == target:\n",
        "            return i\n",
        "        Counter += 1\n",
        "\n",
        "    return -1\n",
        "\n",
        "#Linear search\n",
        "def linear_search(arr, target):\n",
        "  Counter = 0\n",
        "  for i in range(len(arr)):\n",
        "        if arr[i] == target:\n",
        "          return i, Counter\n",
        "        Counter += 1\n",
        "  return -1, Counter\n",
        "\n",
        "arr = sorted(random.sample(range(1, 1001), 100))\n",
        "print(arr)\n",
        "target = int(input(\"Masukan angka acak: \"))\n",
        "\n",
        "result = jump_search(arr, target)\n",
        "\n",
        "if result != -1:\n",
        "    print(f\"Angka ditemukan pada indeks {result}\")\n",
        "    print(f\"Jumlah perbandingan: {Counter}\")\n",
        "else:\n",
        "    print(\"Angka tidak ditemukan dalam array\")\n",
        "    print(f\"Jumlah perbandingan: {Counter}\")"
      ],
      "metadata": {
        "colab": {
          "base_uri": "https://localhost:8080/"
        },
        "id": "NMp0K9QHCGNQ",
        "outputId": "61d70966-aa5a-4171-eb23-2748d966c7cc"
      },
      "execution_count": 4,
      "outputs": [
        {
          "output_type": "stream",
          "name": "stdout",
          "text": [
            "[30, 31, 32, 33, 43, 44, 51, 58, 69, 71, 81, 115, 117, 132, 145, 146, 149, 155, 179, 191, 198, 202, 210, 215, 227, 234, 239, 242, 247, 252, 257, 264, 274, 310, 318, 324, 369, 372, 376, 390, 400, 409, 415, 432, 447, 479, 506, 537, 538, 553, 566, 580, 584, 596, 599, 601, 603, 609, 616, 622, 627, 657, 662, 665, 668, 691, 696, 700, 703, 705, 731, 739, 742, 745, 747, 754, 762, 770, 777, 782, 830, 844, 864, 867, 870, 904, 923, 936, 938, 950, 951, 956, 957, 963, 970, 972, 976, 980, 982, 999]\n",
            "Masukan angka acak: 51\n",
            "Angka ditemukan pada indeks 6\n",
            "Jumlah perbandingan: 6\n"
          ]
        }
      ]
    }
  ]
}