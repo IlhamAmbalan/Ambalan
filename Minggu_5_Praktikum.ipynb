{
  "cells": [
    {
      "cell_type": "markdown",
      "metadata": {
        "id": "view-in-github",
        "colab_type": "text"
      },
      "source": [
        "<a href=\"https://colab.research.google.com/github/IlhamAmbalan/Ambalan/blob/main/Minggu_5_Praktikum.ipynb\" target=\"_parent\"><img src=\"https://colab.research.google.com/assets/colab-badge.svg\" alt=\"Open In Colab\"/></a>"
      ]
    },
    {
      "cell_type": "markdown",
      "metadata": {
        "id": "noS1D8edETH0"
      },
      "source": [
        "# **Weekly Exercise 1**\n",
        "\n"
      ]
    },
    {
      "cell_type": "code",
      "execution_count": 15,
      "metadata": {
        "colab": {
          "base_uri": "https://localhost:8080/"
        },
        "id": "XMp00G9gENle",
        "outputId": "ee10b906-e72d-4561-d3e9-1f9dc8f5de58"
      },
      "outputs": [
        {
          "output_type": "stream",
          "name": "stdout",
          "text": [
            "Masukkan tahun :1900\n",
            "1900 Bukan erupakan tahun kabisat\n"
          ]
        }
      ],
      "source": [
        "tahun = int(input(\"Masukkan tahun :\"))\n",
        "\n",
        "if tahun % 4 == 0:\n",
        "  if tahun % 100 == 0:\n",
        "    if tahun % 400 == 0:\n",
        "      print(tahun, \"Merupakan tahun kabisat\")\n",
        "    else:\n",
        "      print(tahun, \"Bukan merupakan tahun kabisat\")\n",
        "  else:\n",
        "    print(tahun, \"Bukan merupakan tahun kabisat\")\n",
        "else:\n",
        "  print(tahun, \"Bukan merupakan tahun kabisat\")"
      ]
    },
    {
      "cell_type": "markdown",
      "metadata": {
        "id": "LIPjJ6ROGWlx"
      },
      "source": [
        "# **Weekly Exercise 2**"
      ]
    },
    {
      "cell_type": "code",
      "execution_count": 22,
      "metadata": {
        "colab": {
          "base_uri": "https://localhost:8080/"
        },
        "id": "_KZwHKD7Ga4N",
        "outputId": "79b146d1-73f4-418d-96cd-c601de227080"
      },
      "outputs": [
        {
          "output_type": "stream",
          "name": "stdout",
          "text": [
            "Masukkan angka pertama :1\n",
            "Masukkan angka kedua :2\n",
            "Masukkan angka ketiga :3\n",
            "Angka ketiga terbesar : 3\n"
          ]
        }
      ],
      "source": [
        "angka1 = int(input(\"Masukkan angka pertama :\"))\n",
        "angka2 = int(input(\"Masukkan angka kedua :\"))\n",
        "angka3 = int(input(\"Masukkan angka ketiga :\"))\n",
        "\n",
        "if angka1 > angka2 and angka1 > angka3:\n",
        "  print(\"Angka pertama terbesar :\", angka1)\n",
        "elif angka2 > angka1 and angka2 > angka3:\n",
        "  print(\"Angka kedua terbesar :\", angka2)\n",
        "elif angka3 > angka1 and angka3 > angka2:\n",
        "  print(\"Angka ketiga terbesar :\", angka3)\n",
        "else:\n",
        "  print(\"Ketiga angka sama besar\")"
      ]
    },
    {
      "cell_type": "markdown",
      "metadata": {
        "id": "-ju2pN8XIZsX"
      },
      "source": [
        "# **Weekly Exercise 3**"
      ]
    },
    {
      "cell_type": "code",
      "execution_count": 18,
      "metadata": {
        "colab": {
          "base_uri": "https://localhost:8080/"
        },
        "id": "OeoAMBEOIeTr",
        "outputId": "be7a646b-715b-4ce6-a080-93395b9ef879"
      },
      "outputs": [
        {
          "output_type": "stream",
          "name": "stdout",
          "text": [
            "Masukkan total belanja : 150000\n",
            "Jenis konsumen (member/non member):member\n",
            "Jumlah yang harus dibayarkan : Rp 142500.0\n"
          ]
        }
      ],
      "source": [
        "total_belanja = float(input(\"Masukkan total belanja : \"))\n",
        "konsumen = input(\"Jenis konsumen (member/non member):\")\n",
        "\n",
        "diskon = 0\n",
        "if total_belanja >= 100000:\n",
        "  if total_belanja >= 200000:\n",
        "    diskon = 0.04\n",
        "  else:\n",
        "    diskon = 0.03\n",
        "\n",
        "if konsumen == \"member\":\n",
        "  diskon += 0.02\n",
        "\n",
        "jumlah_pembayaran = total_belanja * (1 - diskon)\n",
        "\n",
        "print(\"Jumlah yang harus dibayarkan : Rp\", jumlah_pembayaran)"
      ]
    },
    {
      "cell_type": "markdown",
      "source": [
        "# **Weekly Exercise 4**"
      ],
      "metadata": {
        "id": "ajuXgFaDW4gz"
      }
    },
    {
      "cell_type": "code",
      "source": [
        "username = input(\"Masukkan username : \")\n",
        "email = input(\"Masukkan email : \")\n",
        "password = input(\"Masukkan password : \")\n",
        "\n",
        "if username == \"\":\n",
        "  print(\"Username tidak boleh kosong\")\n",
        "elif \"@\" not in email:\n",
        "  print(\"Harus terdapat '@' pada alamat email\")\n",
        "elif len(password) < 8:\n",
        "  print(\"Panjang password harus lebih dari 8 karakter\")\n",
        "else:\n",
        "  print(\"User berhasil dibuat\")\n"
      ],
      "metadata": {
        "colab": {
          "base_uri": "https://localhost:8080/"
        },
        "id": "faahAZvgW8ce",
        "outputId": "bc41d479-8433-4f86-a98c-d932b6534b14"
      },
      "execution_count": 23,
      "outputs": [
        {
          "output_type": "stream",
          "name": "stdout",
          "text": [
            "Masukkan username : ilham\n",
            "Masukkan email : ilham@gmail.com\n",
            "Masukkan password : ilhamkhalidputraambalan\n",
            "User berhasil dibuat\n"
          ]
        }
      ]
    }
  ],
  "metadata": {
    "colab": {
      "provenance": [],
      "authorship_tag": "ABX9TyMFoMHZuHZLX5GQcatHHxUF",
      "include_colab_link": true
    },
    "kernelspec": {
      "display_name": "Python 3",
      "name": "python3"
    },
    "language_info": {
      "name": "python"
    }
  },
  "nbformat": 4,
  "nbformat_minor": 0
}