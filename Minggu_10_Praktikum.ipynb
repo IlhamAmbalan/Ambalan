{
  "nbformat": 4,
  "nbformat_minor": 0,
  "metadata": {
    "colab": {
      "provenance": [],
      "authorship_tag": "ABX9TyOM+iJ81MvkmeaURyaqjiN/",
      "include_colab_link": true
    },
    "kernelspec": {
      "name": "python3",
      "display_name": "Python 3"
    },
    "language_info": {
      "name": "python"
    }
  },
  "cells": [
    {
      "cell_type": "markdown",
      "metadata": {
        "id": "view-in-github",
        "colab_type": "text"
      },
      "source": [
        "<a href=\"https://colab.research.google.com/github/IlhamAmbalan/Ambalan/blob/main/Minggu_10_Praktikum.ipynb\" target=\"_parent\"><img src=\"https://colab.research.google.com/assets/colab-badge.svg\" alt=\"Open In Colab\"/></a>"
      ]
    },
    {
      "cell_type": "markdown",
      "source": [
        "# **Weekly Exercise 1**"
      ],
      "metadata": {
        "id": "CNbRyxEkWKVd"
      }
    },
    {
      "cell_type": "code",
      "execution_count": 2,
      "metadata": {
        "id": "y9Mrxm7GWBJC",
        "colab": {
          "base_uri": "https://localhost:8080/"
        },
        "outputId": "5af42f20-5cbd-4018-f0f3-bc132028ef07"
      },
      "outputs": [
        {
          "output_type": "stream",
          "name": "stdout",
          "text": [
            "Masukkan bilangan: 5\n",
            "Faktorial dari 5 adalah 120\n"
          ]
        }
      ],
      "source": [
        "def faktorial(n):\n",
        "  if n == 0:\n",
        "    return 1\n",
        "  else:\n",
        "    return n * faktorial(n-1)\n",
        "\n",
        "angka = int(input(\"Masukkan bilangan: \"))\n",
        "\n",
        "if angka < 0:\n",
        "  print(\"Faktorial hanya didefiniskan untuk bilangan bulat positif\")\n",
        "else:\n",
        "  hasil = faktorial(angka)\n",
        "  print(f\"Faktorial dari {angka} adalah {hasil}\")"
      ]
    },
    {
      "cell_type": "markdown",
      "source": [
        "# **Weekly Exercise 2**"
      ],
      "metadata": {
        "id": "UCfieJ8aXWyP"
      }
    },
    {
      "cell_type": "code",
      "source": [
        "def luas_lingkaran():\n",
        "    Phi = 3.14\n",
        "    jari = float(input(\"Masukkan jari-jari lingkaran: \"))\n",
        "    luas = Phi * jari * jari\n",
        "    print(f\"Luas lingkaran dengan jari-jari {jari} adalah: {luas}\")\n",
        "\n",
        "def luas_persegi():\n",
        "    sisi = float(input(\"Masukkan panjang sisi persegi: \"))\n",
        "    luas = sisi * sisi\n",
        "    print(f\"Luas persegi dengan sisi {sisi} adalah: {luas}\")\n",
        "\n",
        "def luas_segitiga():\n",
        "    alas = float(input(\"Masukkan panjang alas segitiga: \"))\n",
        "    tinggi = float(input(\"Masukkan tinggi segitiga: \"))\n",
        "    luas = 0.5 * alas * tinggi\n",
        "    print(f\"Luas segitiga dengan alas {alas} dan tinggi {tinggi} adalah: {luas}\")\n",
        "\n",
        "def function():\n",
        "    while True:\n",
        "        print(\"\\nPilih luas yang ingin dicari:\")\n",
        "        print(\"1. Lingkaran\")\n",
        "        print(\"2. Persegi\")\n",
        "        print(\"3. Segitiga\")\n",
        "        print(\"4. Keluar\")\n",
        "\n",
        "        n = input(\"Masukkan pilihan (1/2/3/4): \")\n",
        "\n",
        "        if n == '1':\n",
        "            luas_lingkaran()\n",
        "        elif n == '2':\n",
        "            luas_persegi()\n",
        "        elif n == '3':\n",
        "            luas_segitiga()\n",
        "        elif n == '4':\n",
        "            print(\"Terimakasih telah menggunakan kalkulator\")\n",
        "            break\n",
        "        else:\n",
        "            print(\"Pilihan tidak valid. Silakan pilih angka yang sesuai.\")\n",
        "\n",
        "function()"
      ],
      "metadata": {
        "colab": {
          "base_uri": "https://localhost:8080/"
        },
        "id": "bzDO38GpXcbx",
        "outputId": "5518d08d-bc71-4dc3-ba73-c51a263d0524"
      },
      "execution_count": 3,
      "outputs": [
        {
          "output_type": "stream",
          "name": "stdout",
          "text": [
            "\n",
            "Pilih luas yang ingin dicari:\n",
            "1. Lingkaran\n",
            "2. Persegi\n",
            "3. Segitiga\n",
            "4. Keluar\n",
            "Masukkan pilihan (1/2/3/4): 2\n",
            "Masukkan panjang sisi persegi: 2\n",
            "Luas persegi dengan sisi 2.0 adalah: 4.0\n",
            "\n",
            "Pilih luas yang ingin dicari:\n",
            "1. Lingkaran\n",
            "2. Persegi\n",
            "3. Segitiga\n",
            "4. Keluar\n",
            "Masukkan pilihan (1/2/3/4): 3\n",
            "Masukkan panjang alas segitiga: 5\n",
            "Masukkan tinggi segitiga: 3\n",
            "Luas segitiga dengan alas 5.0 dan tinggi 3.0 adalah: 7.5\n",
            "\n",
            "Pilih luas yang ingin dicari:\n",
            "1. Lingkaran\n",
            "2. Persegi\n",
            "3. Segitiga\n",
            "4. Keluar\n",
            "Masukkan pilihan (1/2/3/4): 4\n",
            "Terimakasih telah menggunakan kalkulator\n"
          ]
        }
      ]
    }
  ]
}