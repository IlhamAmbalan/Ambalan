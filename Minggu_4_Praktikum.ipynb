{
  "nbformat": 4,
  "nbformat_minor": 0,
  "metadata": {
    "colab": {
      "provenance": [],
      "authorship_tag": "ABX9TyMhqr2YywbbS2BlbQfY41iO",
      "include_colab_link": true
    },
    "kernelspec": {
      "name": "python3",
      "display_name": "Python 3"
    },
    "language_info": {
      "name": "python"
    }
  },
  "cells": [
    {
      "cell_type": "markdown",
      "metadata": {
        "id": "view-in-github",
        "colab_type": "text"
      },
      "source": [
        "<a href=\"https://colab.research.google.com/github/IlhamAmbalan/Ambalan/blob/main/Minggu_4_Praktikum.ipynb\" target=\"_parent\"><img src=\"https://colab.research.google.com/assets/colab-badge.svg\" alt=\"Open In Colab\"/></a>"
      ]
    },
    {
      "cell_type": "markdown",
      "source": [
        "# **Weekly Exercise 1**"
      ],
      "metadata": {
        "id": "4sGyZSoKD1w3"
      }
    },
    {
      "cell_type": "code",
      "execution_count": 4,
      "metadata": {
        "colab": {
          "base_uri": "https://localhost:8080/"
        },
        "id": "vDZ5yQWoBYi4",
        "outputId": "e5633c43-5e02-4003-b8bc-f7302353d3db"
      },
      "outputs": [
        {
          "output_type": "stream",
          "name": "stdout",
          "text": [
            "Masukkan Umur : 15\n",
            "Tidak Boleh Membuat SIM\n"
          ]
        }
      ],
      "source": [
        "age = int(input(\"Masukkan Umur : \"))\n",
        "\n",
        "if age >= 17:\n",
        "    print(\"Boleh Membuat SIM\")\n",
        "else:\n",
        "    print(\"Tidak Boleh Membuat SIM\")"
      ]
    },
    {
      "cell_type": "markdown",
      "source": [
        "# **Weekly Exercise 2**"
      ],
      "metadata": {
        "id": "NPDZ40r-Gm4v"
      }
    },
    {
      "cell_type": "code",
      "source": [
        "nilai = int(input(\"Masukkan Nilai \"))\n",
        "\n",
        "if nilai >= 90:\n",
        "  print(\"Grade A\")\n",
        "elif nilai >= 80:\n",
        "  print(\"Grade B+\")\n",
        "elif nilai >= 70:\n",
        "  print(\"Grade B\")\n",
        "elif nilai >= 60:\n",
        "  print(\"Grade C+\")\n",
        "elif nilai >= 50:\n",
        "  print(\"Grade C\")\n",
        "elif nilai >= 40:\n",
        "  print(\"Grade D\")\n",
        "else:\n",
        "  print(\"Grade E\")\n"
      ],
      "metadata": {
        "colab": {
          "base_uri": "https://localhost:8080/"
        },
        "id": "3f3uflCrG2dL",
        "outputId": "1fe64204-575a-4ee4-c3c0-29a78b6e8aa6"
      },
      "execution_count": 1,
      "outputs": [
        {
          "output_type": "stream",
          "name": "stdout",
          "text": [
            "Masukkan Nilai 85\n",
            "Grade B+\n"
          ]
        }
      ]
    },
    {
      "cell_type": "markdown",
      "source": [
        "# **Weekly Exerrcise 3**"
      ],
      "metadata": {
        "id": "25ZRvpPIId1s"
      }
    },
    {
      "cell_type": "code",
      "source": [
        "nilai = float(input(\"Masukkan Nilai \"))\n",
        "\n",
        "if nilai <= 100 and nilai >= 80:\n",
        "  print(\"Grade A\")\n",
        "elif nilai <= 79.99 and nilai >= 77.50:\n",
        "  print(\"Grade A-\")\n",
        "elif nilai <= 77.49 and nilai >= 75:\n",
        "  print(\"Grade AB\")\n",
        "elif nilai <= 74.99 and nilai >= 72.50:\n",
        "  print(\"Grade B+\")\n",
        "elif nilai <= 72.49 and nilai >= 70:\n",
        "  print(\"Grade B\")\n",
        "elif nilai <= 69.99 and nilai >= 67.50:\n",
        "  print(\"Grade B-\")\n",
        "elif nilai <= 67.49 and nilai >= 65:\n",
        "  print(\"Grade BC\")\n",
        "elif nilai <= 64.99 and nilai >= 62.50:\n",
        "  print(\"Grade C+\")\n",
        "elif nilai <= 62.49 and nilai >= 60:\n",
        "  print(\"Grade C\")\n",
        "elif nilai <= 59.99 and nilai >= 55:\n",
        "  print(\"Grade C-\")\n",
        "elif nilai <= 54.99 and nilai >= 50:\n",
        "  print(\"Grade CD\")\n",
        "elif nilai <= 49.99 and nilai >= 45:\n",
        "  print(\"Grade D+\")\n",
        "elif nilai <= 44.99 and nilai >= 40:\n",
        "  print(\"Grade D\")\n",
        "elif nilai < 40:\n",
        "  print(\"Grade E\")\n",
        "else:\n",
        "  print(\" \")"
      ],
      "metadata": {
        "colab": {
          "base_uri": "https://localhost:8080/"
        },
        "id": "2VucPWvhIi9l",
        "outputId": "633279f3-6e3b-449f-ba67-fa77a99a5d79"
      },
      "execution_count": 3,
      "outputs": [
        {
          "output_type": "stream",
          "name": "stdout",
          "text": [
            "Masukkan Nilai 63.5\n",
            "Grade C+\n"
          ]
        }
      ]
    }
  ]
}