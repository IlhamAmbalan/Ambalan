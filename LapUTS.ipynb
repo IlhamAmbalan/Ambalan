{
  "nbformat": 4,
  "nbformat_minor": 0,
  "metadata": {
    "colab": {
      "provenance": [],
      "authorship_tag": "ABX9TyOVk2iiC36+FsRKNTQ9dS9l",
      "include_colab_link": true
    },
    "kernelspec": {
      "name": "python3",
      "display_name": "Python 3"
    },
    "language_info": {
      "name": "python"
    }
  },
  "cells": [
    {
      "cell_type": "markdown",
      "metadata": {
        "id": "view-in-github",
        "colab_type": "text"
      },
      "source": [
        "<a href=\"https://colab.research.google.com/github/IlhamAmbalan/Ambalan/blob/main/LapUTS.ipynb\" target=\"_parent\"><img src=\"https://colab.research.google.com/assets/colab-badge.svg\" alt=\"Open In Colab\"/></a>"
      ]
    },
    {
      "cell_type": "markdown",
      "source": [
        "# **Live UTS**"
      ],
      "metadata": {
        "id": "3IvtpCB7SZHt"
      }
    },
    {
      "cell_type": "code",
      "execution_count": null,
      "metadata": {
        "id": "OkoKWefFSM9p",
        "colab": {
          "base_uri": "https://localhost:8080/"
        },
        "outputId": "a378b465-ce59-4263-c77a-a9a06ecac79e"
      },
      "outputs": [
        {
          "output_type": "stream",
          "name": "stdout",
          "text": [
            "Masukkan NPM Anda: 2440506066\n",
            "Jumlah bilangan genap:  9\n",
            "Jumlah bilangan ganjil:  1\n"
          ]
        }
      ],
      "source": [
        "bilangan = input(\"Masukkan NPM Anda: \")\n",
        "\n",
        "bilangan_genap = 0\n",
        "bilangan_ganjil = 0\n",
        "for jumlah_bilangan in bilangan:\n",
        "  if int(jumlah_bilangan) % 2 == 0:\n",
        "    bilangan_genap += 1\n",
        "  else:\n",
        "    bilangan_ganjil += 1\n",
        "\n",
        "print(\"Jumlah bilangan genap: \", bilangan_genap)\n",
        "print(\"Jumlah bilangan ganjil: \", bilangan_ganjil)"
      ]
    },
    {
      "cell_type": "code",
      "source": [
        "baris = int(input(\"Masukkan Jumlah Baris: \"))\n",
        "\n",
        "i = 1\n",
        "for i in range(baris + 1):\n",
        "  for j in range(1, i+1):\n",
        "    print(i*j, end= \" \")\n",
        "  print()"
      ],
      "metadata": {
        "colab": {
          "base_uri": "https://localhost:8080/"
        },
        "id": "55TcroNjSlGF",
        "outputId": "42d4416b-a10a-46f4-9b2e-ce9b2c8b7220"
      },
      "execution_count": null,
      "outputs": [
        {
          "output_type": "stream",
          "name": "stdout",
          "text": [
            "Masukkan Jumlah Baris: 5\n",
            "\n",
            "1 \n",
            "2 4 \n",
            "3 6 9 \n",
            "4 8 12 16 \n",
            "5 10 15 20 25 \n"
          ]
        }
      ]
    }
  ]
}