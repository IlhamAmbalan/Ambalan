{
  "nbformat": 4,
  "nbformat_minor": 0,
  "metadata": {
    "colab": {
      "provenance": [],
      "authorship_tag": "ABX9TyMRFlXlmUxHx0rrUx4CxFLD",
      "include_colab_link": true
    },
    "kernelspec": {
      "name": "python3",
      "display_name": "Python 3"
    },
    "language_info": {
      "name": "python"
    }
  },
  "cells": [
    {
      "cell_type": "markdown",
      "metadata": {
        "id": "view-in-github",
        "colab_type": "text"
      },
      "source": [
        "<a href=\"https://colab.research.google.com/github/IlhamAmbalan/Ambalan/blob/main/Minggu_4_Praktikum_StrukDat.ipynb\" target=\"_parent\"><img src=\"https://colab.research.google.com/assets/colab-badge.svg\" alt=\"Open In Colab\"/></a>"
      ]
    },
    {
      "cell_type": "markdown",
      "source": [
        "# LATIHAN / TUGAS"
      ],
      "metadata": {
        "id": "9mhf5wXjKUa1"
      }
    },
    {
      "cell_type": "markdown",
      "source": [
        "**Soal Latihan 1**"
      ],
      "metadata": {
        "id": "k3VjbuaCKBaL"
      }
    },
    {
      "cell_type": "code",
      "execution_count": null,
      "metadata": {
        "colab": {
          "base_uri": "https://localhost:8080/"
        },
        "id": "d6RsXoAmEXyr",
        "outputId": "6ed1c39d-b931-4ce3-80bc-e0af56b6aad1"
      },
      "outputs": [
        {
          "output_type": "stream",
          "name": "stdout",
          "text": [
            "Pelanggan IL66 ditambahkan ke antrian.\n",
            "Pelanggan KH06 ditambahkan ke antrian.\n",
            "Pelanggan PT05 ditambahkan ke antrian.\n",
            "Pelanggan AM4466 ditambahkan ke antrian.\n",
            "Pelanggan pertama: IL66\n",
            "Pelanggan terakhir: AM4466\n",
            "Pelanggan IL66 dilayani.\n",
            "Apakah antrian kosong? False\n",
            "Jumlah pelanggan dalam antrian: 3\n",
            "Pelanggan VIP AM4466 langsung mendapatkan kursi.\n"
          ]
        },
        {
          "output_type": "execute_result",
          "data": {
            "text/plain": [
              "True"
            ]
          },
          "metadata": {},
          "execution_count": 19
        }
      ],
      "source": [
        "class AntrianBioskop:\n",
        "    def __init__(self, kapasitas=10):\n",
        "        self.antrian = []\n",
        "        self.kapasitas = kapasitas\n",
        "\n",
        "    def enqueue(self, ticket_id):\n",
        "        if self.size() < self.kapasitas:\n",
        "            self.antrian.append(ticket_id)\n",
        "            print(f\"Pelanggan {ticket_id} ditambahkan ke antrian.\")\n",
        "        else:\n",
        "            print(\"Antrian penuh. Silakan tunggu hingga ada slot kosong.\")\n",
        "\n",
        "    def dequeue(self):\n",
        "        if not self.is_empty():\n",
        "            pelanggan = self.antrian.pop(0)\n",
        "            print(f\"Pelanggan {pelanggan} dilayani.\")\n",
        "            return pelanggan\n",
        "        else:\n",
        "            print(\"Antrian kosong.\")\n",
        "            return None\n",
        "\n",
        "    def front(self):\n",
        "        if not self.is_empty():\n",
        "            return self.antrian[0]\n",
        "        else:\n",
        "            return None\n",
        "\n",
        "    def rear(self):\n",
        "        if not self.is_empty():\n",
        "            return self.antrian[-1]\n",
        "        else:\n",
        "            return None\n",
        "\n",
        "    def is_empty(self):\n",
        "        return len(self.antrian) == 0\n",
        "\n",
        "    def size(self):\n",
        "        return len(self.antrian)\n",
        "\n",
        "    def vip_customer(self, ticket_id):\n",
        "        if '4' in ticket_id:\n",
        "            print(f\"Pelanggan VIP {ticket_id} langsung mendapatkan kursi.\")\n",
        "            return True\n",
        "        else:\n",
        "            return False\n",
        "\n",
        "antrian = AntrianBioskop()\n",
        "\n",
        "antrian.enqueue(\"IL66\")\n",
        "antrian.enqueue(\"KH06\")\n",
        "antrian.enqueue(\"PT05\")\n",
        "antrian.enqueue(\"AM4466\")\n",
        "\n",
        "print(\"Pelanggan pertama:\", antrian.front())\n",
        "print(\"Pelanggan terakhir:\", antrian.rear())\n",
        "\n",
        "antrian.dequeue()\n",
        "\n",
        "print(\"Apakah antrian kosong?\", antrian.is_empty())\n",
        "print(\"Jumlah pelanggan dalam antrian:\", antrian.size())\n",
        "\n",
        "antrian.vip_customer(\"AM4466\")"
      ]
    },
    {
      "cell_type": "markdown",
      "source": [
        "**Soal Latihan 2**"
      ],
      "metadata": {
        "id": "C_lEaOBKL0Ng"
      }
    },
    {
      "cell_type": "code",
      "source": [
        "class AntrianFotokopi:\n",
        "    def __init__(self):\n",
        "        self.antrian = []\n",
        "\n",
        "    def enqueue(self, order_id, num_pages):\n",
        "        self.antrian.append((order_id, num_pages))\n",
        "        print(f\"Pesanan {order_id} dengan {num_pages} halaman ditambahkan ke antrian.\")\n",
        "\n",
        "    def dequeue(self):\n",
        "        if not self.is_empty():\n",
        "            order_id, num_pages = self.antrian.pop(0)\n",
        "            if num_pages > 100:\n",
        "                print(f\"Pesanan {order_id} sedang diproses (Tahap 1). Sisa {num_pages - 100} halaman.\")\n",
        "                self.antrian.append((order_id, num_pages - 100))\n",
        "            else:\n",
        "                print(f\"Pesanan {order_id} selesai diproses.\")\n",
        "            return order_id, num_pages\n",
        "        else:\n",
        "            print(\"Antrian kosong.\")\n",
        "            return None, None\n",
        "\n",
        "    def front(self):\n",
        "        if not self.is_empty():\n",
        "            return self.antrian[0]\n",
        "        else:\n",
        "            return None\n",
        "\n",
        "    def rear(self):\n",
        "        if not self.is_empty():\n",
        "            return self.antrian[-1]\n",
        "        else:\n",
        "            return None\n",
        "\n",
        "    def is_empty(self):\n",
        "        return len(self.antrian) == 0\n",
        "\n",
        "    def size(self):\n",
        "        return len(self.antrian)\n",
        "\n",
        "    def fast_track(self, order_id, num_pages):\n",
        "        if num_pages < 10:\n",
        "            print(f\"Pesanan {order_id} langsung diproses (Fast Track).\")\n",
        "            return True\n",
        "        else:\n",
        "            return False\n",
        "\n",
        "antrian = AntrianFotokopi()\n",
        "\n",
        "antrian.enqueue(\"ILH66\", 50)\n",
        "antrian.enqueue(\"DWI34\", 120)\n",
        "\n",
        "print(\"Pesanan pertama:\", antrian.front())\n",
        "print(\"Pesanan terakhir:\", antrian.rear())\n",
        "\n",
        "antrian.dequeue()\n",
        "antrian.dequeue()\n",
        "antrian.dequeue()\n",
        "\n",
        "print(\"Apakah antrian kosong?\", antrian.is_empty())\n",
        "print(\"Jumlah pesanan dalam antrian:\", antrian.size())\n",
        "\n",
        "antrian.fast_track(\"EKA56\", 5)"
      ],
      "metadata": {
        "colab": {
          "base_uri": "https://localhost:8080/"
        },
        "id": "Xv6s4NS7We7K",
        "outputId": "b39a2bc0-f981-4cc2-85ae-2ef459097572"
      },
      "execution_count": null,
      "outputs": [
        {
          "output_type": "stream",
          "name": "stdout",
          "text": [
            "Pesanan ILH66 dengan 50 halaman ditambahkan ke antrian.\n",
            "Pesanan DWI34 dengan 120 halaman ditambahkan ke antrian.\n",
            "Pesanan EKA56 dengan 5 halaman ditambahkan ke antrian.\n",
            "Pesanan pertama: ('ILH66', 50)\n",
            "Pesanan terakhir: ('EKA56', 5)\n",
            "Pesanan ILH66 selesai diproses.\n",
            "Pesanan DWI34 sedang diproses (Tahap 1). Sisa 20 halaman.\n",
            "Pesanan EKA56 selesai diproses.\n",
            "Apakah antrian kosong? False\n",
            "Jumlah pesanan dalam antrian: 1\n",
            "Pesanan EKA56 langsung diproses (Fast Track).\n"
          ]
        },
        {
          "output_type": "execute_result",
          "data": {
            "text/plain": [
              "True"
            ]
          },
          "metadata": {},
          "execution_count": 21
        }
      ]
    },
    {
      "cell_type": "markdown",
      "source": [
        "**Latihan Soal 3**"
      ],
      "metadata": {
        "id": "OoxU8KObXSCW"
      }
    },
    {
      "cell_type": "code",
      "source": [
        "class AntrianParkirMall:\n",
        "    def __init__(self, kapasitas=15):\n",
        "        self.antrian = []\n",
        "        self.kapasitas = kapasitas\n",
        "\n",
        "    def enqueue(self, vehicle_number, is_listrik=False):\n",
        "        if is_listrik:\n",
        "            self.antrian.insert(0, vehicle_number)\n",
        "            print(f\"Kendaraan listrik {vehicle_number} masuk ke parkiran (Prioritas).\")\n",
        "        elif self.size() < self.kapasitas:\n",
        "            self.antrian.append(vehicle_number)\n",
        "            print(f\"Kendaraan {vehicle_number} masuk ke parkiran.\")\n",
        "        else:\n",
        "            print(\"Parkiran penuh. Silakan tunggu hingga ada kendaraan yang keluar.\")\n",
        "\n",
        "    def dequeue(self):\n",
        "        if not self.is_empty():\n",
        "            kendaraan = self.antrian.pop(0)\n",
        "            print(f\"Kendaraan {kendaraan} keluar dari parkiran.\")\n",
        "            return kendaraan\n",
        "        else:\n",
        "            print(\"Parkiran kosong.\")\n",
        "            return None\n",
        "\n",
        "    def front(self):\n",
        "        if not self.is_empty():\n",
        "            return self.antrian[0]\n",
        "        else:\n",
        "            return None\n",
        "\n",
        "    def rear(self):\n",
        "        if not self.is_empty():\n",
        "            return self.antrian[-1]\n",
        "        else:\n",
        "            return None\n",
        "\n",
        "    def is_empty(self):\n",
        "        return len(self.antrian) == 0\n",
        "\n",
        "    def size(self):\n",
        "        return len(self.antrian)\n",
        "\n",
        "parkiran = AntrianParkirMall()\n",
        "\n",
        "parkiran.enqueue(\"MA66\")\n",
        "parkiran.enqueue(\"JK56\")\n",
        "parkiran.enqueue(\"SM90\", is_listrik=True)\n",
        "\n",
        "print(\"Kendaraan pertama:\", parkiran.front())\n",
        "print(\"Kendaraan terakhir:\", parkiran.rear())\n",
        "\n",
        "parkiran.dequeue()\n",
        "\n",
        "print(\"Apakah parkiran kosong?\", parkiran.is_empty())\n",
        "print(\"Jumlah kendaraan dalam parkiran:\", parkiran.size())"
      ],
      "metadata": {
        "id": "A5zQciFtXVrq",
        "outputId": "03dd427f-6103-4891-80ac-5df4cf4bffa1",
        "colab": {
          "base_uri": "https://localhost:8080/"
        }
      },
      "execution_count": 2,
      "outputs": [
        {
          "output_type": "stream",
          "name": "stdout",
          "text": [
            "Kendaraan MA66 masuk ke parkiran.\n",
            "Kendaraan JK56 masuk ke parkiran.\n",
            "Kendaraan listrik SM90 masuk ke parkiran (Prioritas).\n",
            "Kendaraan pertama: SM90\n",
            "Kendaraan terakhir: JK56\n",
            "Kendaraan SM90 keluar dari parkiran.\n",
            "Apakah parkiran kosong? False\n",
            "Jumlah kendaraan dalam parkiran: 2\n"
          ]
        }
      ]
    },
    {
      "cell_type": "markdown",
      "source": [
        "# Lathan Soal 4"
      ],
      "metadata": {
        "id": "zikTa9aev06H"
      }
    },
    {
      "cell_type": "code",
      "source": [
        "class AntrianSertifikat:\n",
        "    def __init__(self):\n",
        "        self.antrian = []\n",
        "        self.antrian_reguler = []\n",
        "        self.antrian_prestasi = []\n",
        "        self.mahasiswa_berprestasi = set()\n",
        "\n",
        "    def enqueue(self, student_id):\n",
        "        if self.cek_prestasi(student_id):\n",
        "            self.mahasiswa_berprestasi.add(student_id)\n",
        "\n",
        "        if len(self.antrian) < 20:\n",
        "            self.antrian.append(student_id)\n",
        "        else:\n",
        "            if self.cek_prestasi(student_id):\n",
        "                self.antrian_prestasi.append(student_id)\n",
        "            else:\n",
        "                self.antrian_reguler.append(student_id)\n",
        "\n",
        "    def dequeue(self):\n",
        "        if self.is_empty():\n",
        "            return \"Antrian kosong\"\n",
        "\n",
        "        if self.antrian_prestasi:\n",
        "            return self.antrian_prestasi.pop(0)\n",
        "        elif self.antrian:\n",
        "            return self.antrian.pop(0)\n",
        "        elif self.antrian_reguler:\n",
        "            return self.antrian_reguler.pop(0)\n",
        "        else:\n",
        "            return \"Antrian kosong\"\n",
        "\n",
        "    def front(self):\n",
        "        if self.is_empty():\n",
        "            return \"Antrian kosong\"\n",
        "\n",
        "        if self.antrian_prestasi:\n",
        "            return self.antrian_prestasi[0]\n",
        "        elif self.antrian:\n",
        "            return self.antrian[0]\n",
        "        elif self.antrian_reguler:\n",
        "            return self.antrian_reguler[0]\n",
        "        else:\n",
        "            return \"Antrian kosong\"\n",
        "\n",
        "    def rear(self):\n",
        "        if self.is_empty():\n",
        "            return \"Antrian kosong\"\n",
        "\n",
        "        if self.antrian_reguler:\n",
        "            return self.antrian_reguler[-1]\n",
        "        elif self.antrian:\n",
        "            return self.antrian[-1]\n",
        "        elif self.antrian_prestasi:\n",
        "            return self.antrian_prestasi[-1]\n",
        "        else:\n",
        "            return \"Antrian kosong\"\n",
        "\n",
        "    def is_empty(self):\n",
        "        return not (self.antrian or self.antrian_reguler or self.antrian_prestasi)\n",
        "\n",
        "    def size(self):\n",
        "        return len(self.antrian) + len(self.antrian_reguler) + len(self.antrian_prestasi)\n",
        "\n",
        "    def cek_prestasi(self, student_id):\n",
        "        return int(student_id[-2:]) % 2 == 0\n",
        "\n",
        "antrian = AntrianSertifikat()\n",
        "\n",
        "antrian.enqueue(\"TI66\")\n",
        "antrian.enqueue(\"SI02\")\n",
        "antrian.enqueue(\"TI03\")\n",
        "antrian.enqueue(\"SI04\")\n",
        "antrian.enqueue(\"TI05\")\n",
        "antrian.enqueue(\"SI06\")\n",
        "antrian.enqueue(\"TI07\")\n",
        "antrian.enqueue(\"SI08\")\n",
        "antrian.enqueue(\"TI09\")\n",
        "antrian.enqueue(\"SI10\")\n",
        "antrian.enqueue(\"TI11\")\n",
        "antrian.enqueue(\"SI12\")\n",
        "antrian.enqueue(\"TI13\")\n",
        "antrian.enqueue(\"SI14\")\n",
        "antrian.enqueue(\"TI15\")\n",
        "antrian.enqueue(\"SI16\")\n",
        "antrian.enqueue(\"TI17\")\n",
        "antrian.enqueue(\"SI18\")\n",
        "antrian.enqueue(\"TI19\")\n",
        "antrian.enqueue(\"SI20\")\n",
        "antrian.enqueue(\"TI21\")\n",
        "antrian.enqueue(\"SI22\")\n",
        "\n",
        "print(\"Mahasiswa pertama dalam antrian:\", antrian.front())\n",
        "print(\"Mahasiswa terakhir dalam antrian:\", antrian.rear())\n",
        "print(\"Jumlah mahasiswa dalam antrian:\", antrian.size())\n",
        "\n",
        "print(\"Melayani mahasiswa:\", antrian.dequeue())\n",
        "print(\"Melayani mahasiswa:\", antrian.dequeue())\n",
        "\n",
        "print(\"Jumlah mahasiswa dalam antrian setelah dilayani:\", antrian.size())"
      ],
      "metadata": {
        "id": "fiS6DRvov7sx"
      },
      "execution_count": null,
      "outputs": []
    }
  ]
}