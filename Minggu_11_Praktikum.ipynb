{
  "nbformat": 4,
  "nbformat_minor": 0,
  "metadata": {
    "colab": {
      "provenance": [],
      "authorship_tag": "ABX9TyMcd9YMFF8A3TDndGvbKvQf",
      "include_colab_link": true
    },
    "kernelspec": {
      "name": "python3",
      "display_name": "Python 3"
    },
    "language_info": {
      "name": "python"
    }
  },
  "cells": [
    {
      "cell_type": "markdown",
      "metadata": {
        "id": "view-in-github",
        "colab_type": "text"
      },
      "source": [
        "<a href=\"https://colab.research.google.com/github/IlhamAmbalan/Ambalan/blob/main/Minggu_11_Praktikum.ipynb\" target=\"_parent\"><img src=\"https://colab.research.google.com/assets/colab-badge.svg\" alt=\"Open In Colab\"/></a>"
      ]
    },
    {
      "cell_type": "markdown",
      "source": [
        "# **Weekly Exercise 1**"
      ],
      "metadata": {
        "id": "t-sxRfeCaJA1"
      }
    },
    {
      "cell_type": "code",
      "source": [
        "#ISI DARI MODUL\n",
        "phi = 3.14\n",
        "\n",
        "def luas_lingkaran():\n",
        "  jari = float(input(\"Masaukkan nilai jari-jari lingkaran: \"))\n",
        "  return phi * jari ** 2\n",
        "\n",
        "def luas_persegi():\n",
        "  sisi = float(input(\"Masukkan nilai sisi persegi: \"))\n",
        "  return sisi ** 2"
      ],
      "metadata": {
        "id": "LwazJvSa88cO"
      },
      "execution_count": null,
      "outputs": []
    },
    {
      "cell_type": "code",
      "source": [
        "import Matematika\n",
        "\n",
        "print(\"Luas Lingkaran: \", Matematika.luas_lingkaran())\n",
        "print(\"Luas Persegi: \", Matematika.luas_persegi())"
      ],
      "metadata": {
        "colab": {
          "base_uri": "https://localhost:8080/"
        },
        "id": "lNYvSgAnbc5o",
        "outputId": "ac576ae1-31fa-4331-8135-e74c235ce574"
      },
      "execution_count": 5,
      "outputs": [
        {
          "output_type": "stream",
          "name": "stdout",
          "text": [
            "Masaukkan nilai jari-jari lingkaran: 7\n",
            "Luas Lingkaran:  153.86\n",
            "Masukkan nilai sisi persegi: 5\n",
            "Luas Persegi:  25.0\n"
          ]
        }
      ]
    },
    {
      "cell_type": "markdown",
      "source": [
        "# **Weekly Exercise 2**"
      ],
      "metadata": {
        "id": "J2LfGQ5CSBSb"
      }
    },
    {
      "cell_type": "code",
      "source": [
        "import math\n",
        "\n",
        "# Akar kuadrat\n",
        "angka = float(input(\"Masukkan angka akar kuadrat: \"))\n",
        "akar_kuadrat = math.sqrt(angka)\n",
        "print(f\"Akar kuadrat dari {angka}: {akar_kuadrat}\")\n",
        "\n",
        "# Pembulatan bilangan desimal ke atas\n",
        "desimal = float(input(\"Masukkan angka desimal: \"))\n",
        "pembulatan_atas = math.ceil(desimal)\n",
        "print(f\"Pembulatan ke atas dari {desimal}: {pembulatan_atas}\")\n",
        "\n",
        "# Faktorial\n",
        "angka_faktorial = int(input(\"Masukkan angka faktorial: \"))\n",
        "faktorial = math.factorial(angka_faktorial)\n",
        "print(f\"Faktorial dari {angka_faktorial}: {faktorial}\")\n",
        "\n",
        "# Logaritma basis 10\n",
        "angka_log = float(input(\"Masukkan angka logaritma: \"))\n",
        "logaritma_10 = math.log10(angka_log)\n",
        "print(f\"Logaritma basis 10 dari {angka_log}: {logaritma_10}\")\n",
        "\n",
        "# Konversi derajat ke radian\n",
        "sudut_derajat = float(input(\"Masukkan sudut derajat: \"))\n",
        "sudut_radian = math.radians(sudut_derajat)\n",
        "print(f\"Konversi {sudut_derajat} derajat ke radian: {sudut_radian}\")"
      ],
      "metadata": {
        "colab": {
          "base_uri": "https://localhost:8080/"
        },
        "id": "UB5yQgVilzHs",
        "outputId": "c349e6ee-af31-4405-fadc-0be977148438"
      },
      "execution_count": 6,
      "outputs": [
        {
          "output_type": "stream",
          "name": "stdout",
          "text": [
            "Masukkan angka akar kuadrat: 5\n",
            "Akar kuadrat dari 5.0: 2.23606797749979\n",
            "Masukkan angka desimal: 7.2\n",
            "Pembulatan ke atas dari 7.2: 8\n",
            "Masukkan angka faktorial: 4\n",
            "Faktorial dari 4: 24\n",
            "Masukkan angka logaritma: 8\n",
            "Logaritma basis 10 dari 8.0: 0.9030899869919435\n",
            "Masukkan sudut derajat: 60\n",
            "Konversi 60.0 derajat ke radian: 1.0471975511965976\n"
          ]
        }
      ]
    }
  ]
}