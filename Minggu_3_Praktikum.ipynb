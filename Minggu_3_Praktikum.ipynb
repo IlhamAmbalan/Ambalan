{
  "nbformat": 4,
  "nbformat_minor": 0,
  "metadata": {
    "colab": {
      "provenance": [],
      "mount_file_id": "1tFX77uZQAdGa7V18hRWMxH-cG1-dJ_5H",
      "authorship_tag": "ABX9TyMyTVg43Wq3+M70pw85S7md",
      "include_colab_link": true
    },
    "kernelspec": {
      "name": "python3",
      "display_name": "Python 3"
    },
    "language_info": {
      "name": "python"
    }
  },
  "cells": [
    {
      "cell_type": "markdown",
      "metadata": {
        "id": "view-in-github",
        "colab_type": "text"
      },
      "source": [
        "<a href=\"https://colab.research.google.com/github/IlhamAmbalan/Ambalan/blob/main/Minggu_3_Praktikum.ipynb\" target=\"_parent\"><img src=\"https://colab.research.google.com/assets/colab-badge.svg\" alt=\"Open In Colab\"/></a>"
      ]
    },
    {
      "cell_type": "markdown",
      "source": [
        "# **Weekly Exercise 1**"
      ],
      "metadata": {
        "id": "oTvvNsBF1V0-"
      }
    },
    {
      "cell_type": "code",
      "source": [
        "with open('Nikanaeru.txt', 'w') as writefile:\n",
        "    writefile.write(\"Nama            : Ilham Khalid Putra Ambalan\")\n",
        "    writefile.write(\"\\nProgram Studi   : Teknologi Informasi\")\n",
        "    writefile.write(\"\\nNPM             : 2440506066\")\n",
        "    writefile.write(\"\\nAlamat          : Jl. Soekarno Hatta, Magelang, Jawa Tengah\")\n",
        "    writefile.write(\"\\nHobi            : Bermain Game dan Menonton Film\")\n",
        "    writefile.write(\"\\nEmail           : ambalan044@gmail.com\")"
      ],
      "metadata": {
        "id": "uiGm5ZKiKcCb"
      },
      "execution_count": 1,
      "outputs": []
    },
    {
      "cell_type": "code",
      "source": [
        "with open(\"Nikanaeru.txt\",\"r\") as ambalan:\n",
        "  c = ambalan.readlines()\n",
        "  print(c[0])\n",
        "  print(c[1])\n",
        "  print(c[5])"
      ],
      "metadata": {
        "colab": {
          "base_uri": "https://localhost:8080/"
        },
        "id": "nYijJCLaOT0t",
        "outputId": "2fb9df13-a665-41bf-c2eb-a3b3d0e577fd"
      },
      "execution_count": 2,
      "outputs": [
        {
          "output_type": "stream",
          "name": "stdout",
          "text": [
            "Nama            : Ilham Khalid Putra Ambalan\n",
            "\n",
            "Program Studi   : Teknologi Informasi\n",
            "\n",
            "Email           : ambalan044@gmail.com\n"
          ]
        }
      ]
    },
    {
      "cell_type": "code",
      "source": [
        "with open(\"Nikanaeru1.txt\",\"w\") as khalid:\n",
        "  khalid.write(c[0])\n",
        "  khalid.write(c[2])\n",
        "  khalid.write(c[1])\n",
        "  khalid.write(c[3])"
      ],
      "metadata": {
        "id": "chfUnjl_Q0uO"
      },
      "execution_count": null,
      "outputs": []
    },
    {
      "cell_type": "code",
      "source": [
        "with open(\"Nikanaeru1.txt\",\"r\") as khalid:\n",
        "  print(c[0])\n",
        "  print(c[2])\n",
        "  print(c[1])\n",
        "  print(c[3])"
      ],
      "metadata": {
        "colab": {
          "base_uri": "https://localhost:8080/"
        },
        "id": "f3k_EoNkT4w2",
        "outputId": "a41679c9-ba3e-402f-c622-061648162299"
      },
      "execution_count": null,
      "outputs": [
        {
          "output_type": "stream",
          "name": "stdout",
          "text": [
            "Nama            : Ilham Khalid Putra Ambalan\n",
            "\n",
            "NPM             : 2440506066\n",
            "\n",
            "Program Studi   : Teknologi Informasi\n",
            "\n",
            "Alamat          : Jl. Soekarno Hatta, Magelang, Jawa Tengah\n",
            "\n"
          ]
        }
      ]
    },
    {
      "cell_type": "markdown",
      "source": [
        "# **Weekly Exercise 2**"
      ],
      "metadata": {
        "id": "YcDz24jy1i9n"
      }
    },
    {
      "cell_type": "code",
      "source": [
        "print(\"Selamat datang di Toko Maju Jaya\")\n",
        "print(\"Senin, 4 September 2023       13.05\")\n",
        "print(\" \")\n",
        "\n",
        "print(\"DAFTAR BELANJA:\")\n",
        "item1 = \"Sabun\"\n",
        "item2 = 'Shampo'\n",
        "item3 = \"Mie instant\"\n",
        "item4 = \"Detergen\"\n",
        "harga1 = 10000\n",
        "harga2 = 15000\n",
        "harga3 = 5000\n",
        "harga4 = 17500\n",
        "\n",
        "total = harga1 + harga2 + harga3 +harga4\n",
        "\n",
        "print(item1, \"= Rp\" + str(harga1))\n",
        "print(item2, \"= Rp\" + str(harga2))\n",
        "print(item3, \"= Rp\" + str(harga3))\n",
        "print(item4, \"= Rp\" + str(harga4))\n",
        "\n",
        "print(\" \")\n",
        "print(\"Total = Rp \" + str(total))\n",
        "print(\" \")\n",
        "\n",
        "with open(\"Kuitansi.txt\",\"w\") as writefile:\n",
        "        writefile.write(\"Selamat Datang di Toko Maju Jaya\\n\")\n",
        "        writefile.write(\" \\n\")\n",
        "        writefile.write(\"Kuitansi - 4 Septermber 2023\\n\")\n",
        "        writefile.write(\" \\n\")\n",
        "        writefile.write(item1 + \"= Rp \" + str(harga1) + \"\\n\")\n",
        "        writefile.write(item2 + \"= Rp \" + str(harga2) + \"\\n\")\n",
        "        writefile.write(item3 + \"= Rp \" + str(harga3) + \"\\n\")\n",
        "        writefile.write(item4 + \"= Rp \" + str(harga4) +\"\\n\")\n",
        "        writefile.write(\"\\n\")\n",
        "        writefile.write(\"Total Belanja =\" + str(total))\n",
        "\n",
        "with open(\"Kuitansi.txt\", \"r\") as readfile:\n",
        "        print(readfile.read())"
      ],
      "metadata": {
        "colab": {
          "base_uri": "https://localhost:8080/"
        },
        "id": "17FrOBBD1n4N",
        "outputId": "dd67c0c1-1736-49f3-d03a-d3366db7696f"
      },
      "execution_count": 3,
      "outputs": [
        {
          "output_type": "stream",
          "name": "stdout",
          "text": [
            "Selamat datang di Toko Maju Jaya\n",
            "Senin, 4 September 2023       13.05\n",
            " \n",
            "DAFTAR BELANJA:\n",
            "Sabun = Rp10000\n",
            "Shampo = Rp15000\n",
            "Mie instant = Rp5000\n",
            "Detergen = Rp17500\n",
            " \n",
            "Total = Rp 47500\n",
            " \n",
            "Selamat Datang di Toko Maju Jaya\n",
            " \n",
            "Kuitansi - 4 Septermber 2023\n",
            " \n",
            "Sabun= Rp 10000\n",
            "Shampo= Rp 15000\n",
            "Mie instant= Rp 5000\n",
            "Detergen= Rp 17500\n",
            "\n",
            "Total Belanja =47500\n"
          ]
        }
      ]
    }
  ]
}