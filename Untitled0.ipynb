{
  "nbformat": 4,
  "nbformat_minor": 0,
  "metadata": {
    "colab": {
      "provenance": [],
      "authorship_tag": "ABX9TyOHUCMpkYaRa2NhO4XDyeMk",
      "include_colab_link": true
    },
    "kernelspec": {
      "name": "python3",
      "display_name": "Python 3"
    },
    "language_info": {
      "name": "python"
    }
  },
  "cells": [
    {
      "cell_type": "markdown",
      "metadata": {
        "id": "view-in-github",
        "colab_type": "text"
      },
      "source": [
        "<a href=\"https://colab.research.google.com/github/IlhamAmbalan/Ambalan/blob/main/Untitled0.ipynb\" target=\"_parent\"><img src=\"https://colab.research.google.com/assets/colab-badge.svg\" alt=\"Open In Colab\"/></a>"
      ]
    },
    {
      "cell_type": "markdown",
      "source": [
        "# **Weekly Exercise 1**"
      ],
      "metadata": {
        "id": "oXv-Os9Wk1r5"
      }
    },
    {
      "cell_type": "code",
      "execution_count": 10,
      "metadata": {
        "colab": {
          "base_uri": "https://localhost:8080/"
        },
        "id": "z9V5ytVbZXFZ",
        "outputId": "02c69646-7137-4b64-9cea-895be076b7e3"
      },
      "outputs": [
        {
          "output_type": "stream",
          "name": "stdout",
          "text": [
            "\n",
            "Pilih luas yang ingin dicari:\n",
            "1. Lingkaran\n",
            "2. Persegi\n",
            "3. Segitiga\n",
            "4. Keluar\n",
            "Masukkan pilihan (1/2/3/4): halo\n",
            "Pilihan tidak valid. Silakan pilih angka yang sesuai.\n",
            "\n",
            "Pilih luas yang ingin dicari:\n",
            "1. Lingkaran\n",
            "2. Persegi\n",
            "3. Segitiga\n",
            "4. Keluar\n",
            "Masukkan pilihan (1/2/3/4): 4\n",
            "Terimakasih telah menggunakan kalkulator\n"
          ]
        }
      ],
      "source": [
        "def luas_lingkaran():\n",
        "    Phi = 3.14\n",
        "    try:\n",
        "      jari_jari = int(input(\"Masukkan panjang jari-jari: \"))\n",
        "      print(\"Luas lingkaran = \", Phi * jari_jari * jari_jari)\n",
        "    except:\n",
        "      print(\"Hanya boleh masukkan angka\")\n",
        "\n",
        "def luas_persegi():\n",
        "    try:\n",
        "      sisi = int(input('Masukkan panjang sisi: '))\n",
        "      print(\"Luas persegi = \", sisi * sisi)\n",
        "    except:\n",
        "      print(\"Hanya boleh masukkan angka\")\n",
        "\n",
        "def luas_segitiga():\n",
        "    try:\n",
        "       alas = int(input('Masukkan panjang alas: '))\n",
        "       tinggi = int(input('Masukkan panjang tinggi: '))\n",
        "       print(\"Luas segitiga = \", (alas * tinggi) / 2)\n",
        "    except:\n",
        "      print(\"Hanya boleh masukkan angka\")\n",
        "\n",
        "\n",
        "def function():\n",
        "    while True:\n",
        "        print(\"\\nPilih luas yang ingin dicari:\")\n",
        "        print(\"1. Lingkaran\")\n",
        "        print(\"2. Persegi\")\n",
        "        print(\"3. Segitiga\")\n",
        "        print(\"4. Keluar\")\n",
        "\n",
        "        n = input(\"Masukkan pilihan (1/2/3/4): \")\n",
        "\n",
        "        if n == '1':\n",
        "            luas_lingkaran()\n",
        "        elif n == '2':\n",
        "            luas_persegi()\n",
        "        elif n == '3':\n",
        "            luas_segitiga()\n",
        "        elif n == '4':\n",
        "            print(\"Terimakasih telah menggunakan kalkulator\")\n",
        "            break\n",
        "        else:\n",
        "            print(\"Pilihan tidak valid. Silakan pilih angka yang sesuai.\")\n",
        "\n",
        "function()"
      ]
    },
    {
      "cell_type": "markdown",
      "source": [
        "# **Weekly Exercise 2**"
      ],
      "metadata": {
        "id": "W2MioOslk_HT"
      }
    },
    {
      "cell_type": "code",
      "source": [
        "try:\n",
        "  bilangan = input(\"Masukkan NPM Anda: \")\n",
        "\n",
        "  bilangan_genap = 0\n",
        "  bilangan_ganjil = 0\n",
        "  for jumlah_bilangan in bilangan:\n",
        "    if int(jumlah_bilangan) % 2 == 0:\n",
        "      bilangan_genap += 1\n",
        "    else:\n",
        "      bilangan_ganjil += 1\n",
        "\n",
        "  print(\"Jumlah bilangan genap: \", bilangan_genap)\n",
        "  print(\"Jumlah bilangan ganjil: \", bilangan_ganjil)\n",
        "except:\n",
        "  print(\"Masukkan angka NPM\")"
      ],
      "metadata": {
        "colab": {
          "base_uri": "https://localhost:8080/"
        },
        "id": "upX7HFTdlA8u",
        "outputId": "3fb25b45-eacc-4a69-c8a9-6d8991331f69"
      },
      "execution_count": 9,
      "outputs": [
        {
          "output_type": "stream",
          "name": "stdout",
          "text": [
            "Masukkan NPM Anda: 45454545\n",
            "Jumlah bilangan genap:  4\n",
            "Jumlah bilangan ganjil:  4\n"
          ]
        }
      ]
    }
  ]
}