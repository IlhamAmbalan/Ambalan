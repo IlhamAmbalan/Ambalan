{
  "nbformat": 4,
  "nbformat_minor": 0,
  "metadata": {
    "colab": {
      "provenance": [],
      "authorship_tag": "ABX9TyMUcK60OtozkOHdUvaPYwzE",
      "include_colab_link": true
    },
    "kernelspec": {
      "name": "python3",
      "display_name": "Python 3"
    },
    "language_info": {
      "name": "python"
    }
  },
  "cells": [
    {
      "cell_type": "markdown",
      "metadata": {
        "id": "view-in-github",
        "colab_type": "text"
      },
      "source": [
        "<a href=\"https://colab.research.google.com/github/IlhamAmbalan/Ambalan/blob/main/Minggu_6_Praktikum.ipynb\" target=\"_parent\"><img src=\"https://colab.research.google.com/assets/colab-badge.svg\" alt=\"Open In Colab\"/></a>"
      ]
    },
    {
      "cell_type": "markdown",
      "source": [
        "# **Wekkly Exercise 1**"
      ],
      "metadata": {
        "id": "mJ08nsZmGoJy"
      }
    },
    {
      "cell_type": "code",
      "execution_count": 5,
      "metadata": {
        "id": "BN-46EWAGGNi",
        "colab": {
          "base_uri": "https://localhost:8080/"
        },
        "outputId": "664dcf9c-9b2c-4bbc-adba-8262bc652aaa"
      },
      "outputs": [
        {
          "output_type": "stream",
          "name": "stdout",
          "text": [
            "Masukkan Jumlah Baris = 5\n",
            "    *\n",
            "   * *\n",
            "  * * *\n",
            " * * * *\n",
            "* * * * *\n"
          ]
        }
      ],
      "source": [
        "baris = int(input(\"Masukkan Jumlah Baris = \"))\n",
        "\n",
        "for i in range(baris):\n",
        "     print(\" \" * (baris - i - 1), end='')\n",
        "     for j in range (i + 1):\n",
        "         print(\"*\",end='')\n",
        "         if j != i:\n",
        "             print(\" \", end='')\n",
        "     print()"
      ]
    },
    {
      "cell_type": "markdown",
      "source": [
        "# **Weekly Exercise 2**"
      ],
      "metadata": {
        "id": "eTdVwuGCH-VK"
      }
    },
    {
      "cell_type": "code",
      "source": [
        "baris = int(input(\"Masukkan Jumlah Baris = \"))\n",
        "\n",
        "for i in range(baris):\n",
        "     print(\" \" * (baris - i - 1), end='')\n",
        "     pascal = 1\n",
        "     for j in range (i + 1):\n",
        "         print(pascal ,end='')\n",
        "         pascal = pascal * (i - j) // (j + 1)\n",
        "         if j != i:\n",
        "             print(\" \", end='')\n",
        "     print()"
      ],
      "metadata": {
        "colab": {
          "base_uri": "https://localhost:8080/"
        },
        "id": "tOQbvmjcICic",
        "outputId": "0ee211ad-329f-4da7-8351-9e0f4c43941c"
      },
      "execution_count": 8,
      "outputs": [
        {
          "output_type": "stream",
          "name": "stdout",
          "text": [
            "Masukkan Jumlah Baris = 5\n",
            "    1\n",
            "   1 1\n",
            "  1 2 1\n",
            " 1 3 3 1\n",
            "1 4 6 4 1\n"
          ]
        }
      ]
    },
    {
      "cell_type": "markdown",
      "source": [
        "# **Weekly Exercise 3**"
      ],
      "metadata": {
        "id": "2scD7IdCKmva"
      }
    },
    {
      "cell_type": "code",
      "source": [
        "nilai = int(input(\"Masukkan Baris yang Diinginkan: \"))\n",
        "\n",
        "baris = [1]\n",
        "\n",
        "for i in range(1, nilai):\n",
        "    baris_baru = [1]\n",
        "    for j in range(1, len(baris)):\n",
        "        nilai_baru = baris[j - 1] + baris[j]\n",
        "        baris_baru.append(nilai_baru)\n",
        "    baris_baru.append(1)\n",
        "    baris = baris_baru\n",
        "\n",
        "print(\"\\nAngka di Satu Baris Segitiga Pascal:\", baris_baru)\n",
        "\n",
        "print(\"\\nTotal angka dalam satu baris Segitiga Pascal adalah:\" ,sum(baris))"
      ],
      "metadata": {
        "colab": {
          "base_uri": "https://localhost:8080/"
        },
        "id": "XoiuDlZBKaiX",
        "outputId": "51e922bd-2512-40a2-e687-b6eba13a2efd"
      },
      "execution_count": 13,
      "outputs": [
        {
          "output_type": "stream",
          "name": "stdout",
          "text": [
            "Masukkan Baris yang Diinginkan: 5\n",
            "\n",
            "Angka di Satu Baris Segitiga Pascal: [1, 4, 6, 4, 1]\n",
            "\n",
            "Total angka dalam satu baris Segitiga Pascal adalah: 16\n"
          ]
        }
      ]
    }
  ]
}