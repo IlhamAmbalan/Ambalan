{
  "nbformat": 4,
  "nbformat_minor": 0,
  "metadata": {
    "colab": {
      "provenance": [],
      "include_colab_link": true
    },
    "kernelspec": {
      "name": "python3",
      "display_name": "Python 3"
    },
    "language_info": {
      "name": "python"
    }
  },
  "cells": [
    {
      "cell_type": "markdown",
      "metadata": {
        "id": "view-in-github",
        "colab_type": "text"
      },
      "source": [
        "<a href=\"https://colab.research.google.com/github/IlhamAmbalan/Ambalan/blob/main/TugasAkhirTim1.ipynb\" target=\"_parent\"><img src=\"https://colab.research.google.com/assets/colab-badge.svg\" alt=\"Open In Colab\"/></a>"
      ]
    },
    {
      "cell_type": "code",
      "source": [
        "import pickle\n",
        "\n",
        "FILENAME = \"data_pengguna.pkl\"\n",
        "\n",
        "class Pengguna:\n",
        "    def __init__(self, username, email):\n",
        "        self.username = username\n",
        "        self.email = email\n",
        "        self.status_aktif = False\n",
        "\n",
        "    def aktifkan_akun(self):\n",
        "        if self.status_aktif:\n",
        "            raise ValueError(f\"Akun {self.username} sudah aktif.\")\n",
        "        self.status_aktif = True\n",
        "\n",
        "    def nonaktifkan_akun(self):\n",
        "        if not self.status_aktif:\n",
        "            raise ValueError(f\"Akun {self.username} sudah nonaktif.\")\n",
        "        self.status_aktif = False\n",
        "\n",
        "def load_data():\n",
        "    try:\n",
        "        with open(FILENAME, 'rb') as file:\n",
        "            data = pickle.load(file)\n",
        "            return data\n",
        "    except (FileNotFoundError, EOFError):\n",
        "        return [], {}\n",
        "\n",
        "def save_data(daftar_pengguna, dictionary_pengguna):\n",
        "    with open(FILENAME, 'wb') as file:\n",
        "        pickle.dump((daftar_pengguna, dictionary_pengguna), file)\n",
        "\n",
        "daftar_pengguna, dictionary_pengguna = load_data()\n",
        "\n",
        "def tambah_pengguna(username, email):\n",
        "    if username in dictionary_pengguna:\n",
        "        raise ValueError(f\"Pengguna dengan username '{username}' sudah ada.\")\n",
        "    if \"@\" not in email:\n",
        "        raise ValueError(f\"Email '{email}' tidak valid. Pastikan email mengandung '@'.\")\n",
        "    pengguna_baru = Pengguna(username, email)\n",
        "    daftar_pengguna.append(pengguna_baru)\n",
        "    dictionary_pengguna[username] = pengguna_baru\n",
        "    print(f\"Pengguna {username} berhasil ditambahkan.\")\n",
        "    save_data(daftar_pengguna, dictionary_pengguna)\n",
        "\n",
        "def tampilkan_semua_pengguna():\n",
        "    if not daftar_pengguna:\n",
        "        print(\"Tidak ada pengguna yang terdaftar.\")\n",
        "        return\n",
        "    for pengguna in daftar_pengguna:\n",
        "        status = \"Aktif\" if pengguna.status_aktif else \"Nonaktif\"\n",
        "        print(f\"Username: {pengguna.username}, Email: {pengguna.email}, Status: {status}\")\n",
        "\n",
        "def cari_pengguna(username):\n",
        "    pengguna = dictionary_pengguna.get(username)\n",
        "    if pengguna is None:\n",
        "        raise ValueError(f\"Pengguna dengan username '{username}' tidak ditemukan.\")\n",
        "    status = \"Aktif\" if pengguna.status_aktif else \"Nonaktif\"\n",
        "    print(f\"Username: {pengguna.username}, Email: {pengguna.email}, Status: {status}\")\n",
        "    return pengguna\n",
        "\n",
        "def ubah_status_akun(username, aktifkan):\n",
        "    pengguna = cari_pengguna(username)\n",
        "    if aktifkan:\n",
        "        pengguna.aktifkan_akun()\n",
        "        print(f\"Akun {username} berhasil diaktifkan.\")\n",
        "    else:\n",
        "        pengguna.nonaktifkan_akun()\n",
        "        print(f\"Akun {username} berhasil dinonaktifkan.\")\n",
        "    save_data(daftar_pengguna, dictionary_pengguna)\n",
        "\n",
        "def menu():\n",
        "    while True:\n",
        "        print(\"\\n=== Menu Manajemen Pengguna ===\")\n",
        "        print(\"1. Menambahkan pengguna\")\n",
        "        print(\"2. Mengaktifkan atau menonaktifkan pengguna\")\n",
        "        print(\"3. Mencari pengguna berdasarkan username\")\n",
        "        print(\"4. Menampilkan semua pengguna\")\n",
        "        print(\"5. Keluar\")\n",
        "        pilihan = input(\"Pilih menu (1-5): \")\n",
        "\n",
        "        try:\n",
        "            if pilihan == \"1\":\n",
        "                username = input(\"Masukkan username: \")\n",
        "                email = input(\"Masukkan email: \")\n",
        "                tambah_pengguna(username, email)\n",
        "\n",
        "            elif pilihan == \"2\":\n",
        "                username = input(\"Masukkan username: \")\n",
        "                status = input(\"Aktifkan akun? (y/n): \").lower() == \"y\"\n",
        "                ubah_status_akun(username, status)\n",
        "\n",
        "            elif pilihan == \"3\":\n",
        "                username = input(\"Masukkan username: \")\n",
        "                cari_pengguna(username)\n",
        "\n",
        "            elif pilihan == \"4\":\n",
        "                tampilkan_semua_pengguna()\n",
        "\n",
        "            elif pilihan == \"5\":\n",
        "                print(\"Keluar dari program.\")\n",
        "                break\n",
        "\n",
        "            else:\n",
        "                print(\"Pilihan tidak valid. Silakan coba lagi.\")\n",
        "\n",
        "        except ValueError as e:\n",
        "            print(f\"Error: {e}\")\n",
        "\n",
        "if __name__ == \"__main__\":\n",
        "    menu()\n"
      ],
      "metadata": {
        "id": "lIfdPo3r77J3",
        "colab": {
          "base_uri": "https://localhost:8080/"
        },
        "outputId": "5b78a04b-e444-44f4-8eec-4dd22cb1ecb4"
      },
      "execution_count": null,
      "outputs": [
        {
          "metadata": {
            "tags": null
          },
          "name": "stdout",
          "output_type": "stream",
          "text": [
            "\n",
            "=== Menu Manajemen Pengguna ===\n",
            "1. Menambahkan pengguna\n",
            "2. Mengaktifkan atau menonaktifkan pengguna\n",
            "3. Mencari pengguna berdasarkan username\n",
            "4. Menampilkan semua pengguna\n",
            "5. Keluar\n",
            "Username: Ridwan, Email: iwan@gmail.com, Status: Nonaktif\n",
            "\n",
            "=== Menu Manajemen Pengguna ===\n",
            "1. Menambahkan pengguna\n",
            "2. Mengaktifkan atau menonaktifkan pengguna\n",
            "3. Mencari pengguna berdasarkan username\n",
            "4. Menampilkan semua pengguna\n",
            "5. Keluar\n"
          ]
        }
      ]
    }
  ]
}