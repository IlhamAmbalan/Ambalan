{
  "nbformat": 4,
  "nbformat_minor": 0,
  "metadata": {
    "colab": {
      "provenance": [],
      "authorship_tag": "ABX9TyOoBpLy7kSjADmzmDqvHCKq",
      "include_colab_link": true
    },
    "kernelspec": {
      "name": "python3",
      "display_name": "Python 3"
    },
    "language_info": {
      "name": "python"
    }
  },
  "cells": [
    {
      "cell_type": "markdown",
      "metadata": {
        "id": "view-in-github",
        "colab_type": "text"
      },
      "source": [
        "<a href=\"https://colab.research.google.com/github/IlhamAmbalan/Ambalan/blob/main/Minggu_9_Praktikum.ipynb\" target=\"_parent\"><img src=\"https://colab.research.google.com/assets/colab-badge.svg\" alt=\"Open In Colab\"/></a>"
      ]
    },
    {
      "cell_type": "markdown",
      "source": [
        "# **Weekly Exercise 1**"
      ],
      "metadata": {
        "id": "YnO8TgTVAUAQ"
      }
    },
    {
      "cell_type": "markdown",
      "source": [
        "\n",
        "\n",
        "1.   List adalah perintah dalam bahasa pemrograman Python yang digunakan untuk menyimpan sekumpulan data atau item dalam urutan tertentu.Data dalam list terurut dan dapat diubah, elemennya juga dapat diakses menggunakan indeks.\n",
        "\n",
        "2.   Tuple adalah struktur data yang berurutan tidak dapat diubah setelah dibuat. Karena bersifat terurut, sehingga data dapat diakses menggunakan indeks.\n",
        "\n",
        "3.   Set adalah perintah dalam Python yang digunakan untuk menyimpan beberapa item dalam satu variabel. Set tidak terindeks dan tidak berurutan, serta tidak mengizinkan adanya duplikasi elemen.\n",
        "\n",
        "4.   Dictionary adalah struktur data yang berfungsi untuk menyimpan pasangan kunci-nilai (key-value). Dictionary dapat menambah, menghapus, dan memperbarui pasangan kunci-nilai dengan mudah.  \n",
        "\n",
        "\n",
        "\n"
      ],
      "metadata": {
        "id": "hOVOs6xcAToQ"
      }
    },
    {
      "cell_type": "markdown",
      "source": [
        "# **Weekly Exercise 2**"
      ],
      "metadata": {
        "id": "YusvY8mXAAmz"
      }
    },
    {
      "cell_type": "code",
      "execution_count": 1,
      "metadata": {
        "colab": {
          "base_uri": "https://localhost:8080/"
        },
        "id": "wqEX2zD_RNG2",
        "outputId": "b3cbfb82-bff7-4cc4-a44c-e14befb5ec75"
      },
      "outputs": [
        {
          "output_type": "stream",
          "name": "stdout",
          "text": [
            "Nama: Ilham Khalid Putra Ambalan\n",
            "Kelas: Rombel 2\n",
            "Tanggal Lahir: 28 Agustus 2004\n",
            "No HP: 081226901687\n",
            "Alamat: RT 04 RW 06, Banar, Deyangan, Mertoyudan, Magelang\n",
            "Hobi:\n",
            "  - 1. Membaca\n",
            "  - 2. Menonton Film\n",
            "  - 3. Bermain Game\n"
          ]
        }
      ],
      "source": [
        "data_mahasiswa = {\n",
        "    'Nama': 'Ilham Khalid Putra Ambalan',\n",
        "    'Kelas': 'Rombel 2',\n",
        "    'Tanggal Lahir': '28 Agustus 2004',\n",
        "    'No HP': '081226901687',\n",
        "    'Alamat': 'RT 04 RW 06, Banar, Deyangan, Mertoyudan, Magelang',\n",
        "    'Hobi': ['1. Membaca', '2. Menonton Film', '3. Bermain Game']\n",
        "}\n",
        "\n",
        "for key, value in data_mahasiswa.items():\n",
        "    if key == 'Hobi':\n",
        "        print(f\"{key}:\")\n",
        "        for hobi in value:\n",
        "            print(f\"  - {hobi}\")\n",
        "    else:\n",
        "        print(f\"{key}: {value}\")"
      ]
    }
  ]
}