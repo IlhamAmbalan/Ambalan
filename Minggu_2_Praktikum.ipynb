{
  "nbformat": 4,
  "nbformat_minor": 0,
  "metadata": {
    "colab": {
      "provenance": [],
      "authorship_tag": "ABX9TyOC8wI89xhx/AySaDlnhq8t",
      "include_colab_link": true
    },
    "kernelspec": {
      "name": "python3",
      "display_name": "Python 3"
    },
    "language_info": {
      "name": "python"
    }
  },
  "cells": [
    {
      "cell_type": "markdown",
      "metadata": {
        "id": "view-in-github",
        "colab_type": "text"
      },
      "source": [
        "<a href=\"https://colab.research.google.com/github/IlhamAmbalan/Ambalan/blob/main/Minggu_2_Praktikum.ipynb\" target=\"_parent\"><img src=\"https://colab.research.google.com/assets/colab-badge.svg\" alt=\"Open In Colab\"/></a>"
      ]
    },
    {
      "cell_type": "markdown",
      "source": [
        "# **WEEK 2**"
      ],
      "metadata": {
        "id": "UiuUlfNAAOWw"
      }
    },
    {
      "cell_type": "markdown",
      "source": [
        "***Weekly Exercise 1***"
      ],
      "metadata": {
        "id": "mCNA6gx-_SHE"
      }
    },
    {
      "cell_type": "code",
      "execution_count": null,
      "metadata": {
        "colab": {
          "base_uri": "https://localhost:8080/"
        },
        "id": "1JdPSihp8LYx",
        "outputId": "efc17a8c-df7d-41c6-b7f9-c1ad30129935"
      },
      "outputs": [
        {
          "output_type": "stream",
          "name": "stdout",
          "text": [
            "Panjang= 20.5\n",
            "Lebar= 25\n",
            "Tinggi= 10\n",
            "Keliling= 91.0\n",
            "Luas= 512.5\n",
            "Volume= 5125.0\n"
          ]
        }
      ],
      "source": [
        "Panjang = 20.5\n",
        "Lebar = 25\n",
        "Tinggi = 10\n",
        "\n",
        "Keliling = 2 * (Panjang + Lebar)\n",
        "Luas = Panjang * Lebar\n",
        "Volume = Panjang * Lebar * Tinggi\n",
        "\n",
        "print(\"Panjang=\", Panjang)\n",
        "print(\"Lebar=\", Lebar)\n",
        "print(\"Tinggi=\", Tinggi)\n",
        "print(\"Keliling=\", Keliling)\n",
        "print(\"Luas=\", Luas)\n",
        "print(\"Volume=\", Volume)"
      ]
    },
    {
      "cell_type": "markdown",
      "source": [
        "***Weeakly Exercise 2***"
      ],
      "metadata": {
        "id": "t2e4HVH1AssE"
      }
    },
    {
      "cell_type": "code",
      "source": [
        "Rata_Shafira = (85+75)/2\n",
        "print(\"1. Rata-rata nilai Shafira pada kedua mata kuliah adalah\" ,Rata_Shafira)\n",
        "\n",
        "Jumlah_Nilai = (75 + 90 + 70 + 75)\n",
        "print(\"2. Jumlah nilai Hanif dan Andi untuk semua mata kuliah adalah\" ,Jumlah_Nilai)\n",
        "\n",
        "Rata_WDHN_K = (85 + 85 + 80 + 95)/4\n",
        "Rata_WDHN_MS = (85 + 85 + 75 + 80)/4\n",
        "print(\"3. Rata-rata nilai Widya, Dhanar, Hikma dan Nedia pada mata kuliah Kalkulus adalah\" ,Rata_WDHN_K)\n",
        "print(\"   Rata-rata nilai Widya, Dhanar, Hikma dan Nedia pada mata kuliah Metode Statistika adalah\" ,Rata_WDHN_MS)\n",
        "\n",
        "Rata_Semua_K = (85 + 80 + 75 + 95 + 85 + 75 + 70 + 85 + 80)/9\n",
        "print(\"4. Rata-rata nilai mata kuliah Kalkulus 1 untuk semua mahasiswa adalah\" ,Rata_Semua_K)\n",
        "\n",
        "Rata_Semua_MS = (75 + 90 + 80 + 80 + 85 + 90 + 75 + 85 + 75)/9\n",
        "print(\"5. Rata-rata nilai mata kuliah Metode Statistika untuk semua mahasiswa adalah\" ,Rata_Semua_MS)"
      ],
      "metadata": {
        "colab": {
          "base_uri": "https://localhost:8080/"
        },
        "id": "FOEPl5F-BFYl",
        "outputId": "20f04459-e3fd-4d52-ba9a-20ced2601fee"
      },
      "execution_count": 1,
      "outputs": [
        {
          "output_type": "stream",
          "name": "stdout",
          "text": [
            "1. Rata-rata nilai Shafira pada kedua mata kuliah adalah 80.0\n",
            "2. Jumlah nilai Hanif dan Andi untuk semua mata kuliah adalah 310\n",
            "3. Rata-rata nilai Widya, Dhanar, Hikma dan Nedia pada mata kuliah Kalkulus adalah 86.25\n",
            "   Rata-rata nilai Widya, Dhanar, Hikma dan Nedia pada mata kuliah Metode Statistika adalah 81.25\n",
            "4. Rata-rata nilai mata kuliah Kalkulus 1 untuk semua mahasiswa adalah 81.11111111111111\n",
            "5. Rata-rata nilai mata kuliah Metode Statistika untuk semua mahasiswa adalah 81.66666666666667\n"
          ]
        }
      ]
    },
    {
      "cell_type": "markdown",
      "source": [
        "***Weekly Exercise 3***"
      ],
      "metadata": {
        "id": "09WAT1beC4dO"
      }
    },
    {
      "cell_type": "code",
      "source": [
        "Gaji_Agustus = 8 * 30000 * 31\n",
        "Gaji_Potongan = 8 * 30000 * 3\n",
        "Gaji_Dwi = Gaji_Agustus - Gaji_Potongan\n",
        "print(\"1. Gaji yang diterima Dwi pada bulan Agustus adalah\" ,Gaji_Dwi)\n",
        "\n",
        "Tunjangan = 10 * 6720000 // 100\n",
        "print(\"2. Jumlah tunjangan yang diterima oleh Dwi pada bulan Agustus adalah\" ,Tunjangan)\n",
        "\n",
        "Lembur = 10000 * 5\n",
        "Gaji_Total = Gaji_Dwi + Lembur + Tunjangan\n",
        "print(\"3. Gaji total yang diterima oleh Dwi pada bulan Agustus adalah\" ,Gaji_Total)"
      ],
      "metadata": {
        "colab": {
          "base_uri": "https://localhost:8080/"
        },
        "id": "SiaM7sHIDE_i",
        "outputId": "7150b438-93a9-48ec-9a33-db3da28f6760"
      },
      "execution_count": 15,
      "outputs": [
        {
          "output_type": "stream",
          "name": "stdout",
          "text": [
            "1. Gaji yang diterima Dwi pada bulan Agustus adalah 6720000\n",
            "2. Jumlah tunjangan yang diterima oleh Dwi pada bulan Agustus adalah 672000\n",
            "3. Gaji total yang diterima oleh Dwi pada bulan Agustus adalah 7442000\n"
          ]
        }
      ]
    }
  ]
}